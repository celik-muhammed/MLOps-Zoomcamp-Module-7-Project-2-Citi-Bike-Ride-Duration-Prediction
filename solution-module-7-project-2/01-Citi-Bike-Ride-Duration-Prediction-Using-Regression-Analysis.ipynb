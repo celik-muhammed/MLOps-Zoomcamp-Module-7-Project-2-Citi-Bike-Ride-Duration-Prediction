{
 "cells": [
  {
   "cell_type": "markdown",
   "id": "2525fb2f",
   "metadata": {},
   "source": [
    "<div style=\"align: center; margin: 0; padding: 0; height: 250px;\">\n",
    "    <br>\n",
    "    <img src=\"https://images.ctfassets.net/p6ae3zqfb1e3/3pQAQO2G3wrOcyuCXFbAJd/01f1309dda5327d03a76a051f98f44ac/Citi_Bike_Homepage_Hero_3x__1_.jpg\" style=\"display:block; margin:auto; width:65%; height:100%;\">\n",
    "</div><br><br>\n",
    "\n",
    "<div style=\"letter-spacing:normal; opacity:1.;\">\n",
    "<!--   https://xkcd.com/color/rgb/   -->\n",
    "  <p style=\"text-align:center; background-color: lightsalmon; color: Jaguar; border-radius:10px; font-family:monospace; \n",
    "            line-height:1.4; font-size:32px; font-weight:bold; text-transform: uppercase; padding: 9px;\">\n",
    "            <strong>Citi Bike Trip History Data</strong></p>  \n",
    "  \n",
    "  <p style=\"text-align:center; background-color:romance; color: Jaguar; border-radius:10px; font-family:monospace; \n",
    "            line-height:1.4; font-size:22px; font-weight:normal; text-transform: capitalize; padding: 5px;\"\n",
    "     >Machine Learning Module: Ride Duration Prediction using Regression Analysis<br>(EDA and Linear Regression Model Training)</p>    \n",
    "</div>"
   ]
  },
  {
   "cell_type": "markdown",
   "id": "32a8b00d",
   "metadata": {},
   "source": [
    "**Dataset Info**\n",
    "\n",
    "> https://citibikenyc.com/system-data\n",
    "\n",
    "**System Data**\n",
    "\n",
    "Where do Citi Bikers ride? When do they ride? How far do they go? Which stations are most popular? What days of the week are most rides taken on? We've heard all of these questions and more from you, and we're happy to provide the data to help you discover the answers to these questions and more. We invite developers, engineers, statisticians, artists, academics and other interested members of the public to use the data we provide for analysis, development, visualization and whatever else moves you.\n",
    "\n",
    "This data is provided according to the [NYCBS Data Use Policy](https://www.citibikenyc.com/data-sharing-policy).\n",
    "\n",
    "\n",
    "**Citi Bike Trip Histories**\n",
    "\n",
    "We publish [downloadable files of Citi Bike trip data](https://s3.amazonaws.com/tripdata/index.html). The data includes:\n",
    "\n",
    "- Ride ID\n",
    "- Rideable type\n",
    "- Started at\n",
    "- Ended at\n",
    "- Start station name\n",
    "- Start station ID\n",
    "- End station name\n",
    "- End station ID\n",
    "- Start latitude\n",
    "- Start longitude\n",
    "- End latitude\n",
    "- End Longitude\n",
    "- Member or casual ride\n",
    "\n",
    "Data format previously:\n",
    "\n",
    "- Trip Duration (seconds)\n",
    "- Start Time and Date\n",
    "- Stop Time and Date\n",
    "- Start Station Name\n",
    "- End Station Name\n",
    "- Station ID\n",
    "- Station Lat/Long\n",
    "- Bike ID\n",
    "- User Type (Customer = 24-hour pass or 3-day pass user; Subscriber = Annual Member)\n",
    "- Gender (Zero=unknown; 1=male; 2=female)\n",
    "- Year of Birth\n",
    "\n",
    "This data has been processed to remove trips that are taken by staff as they service and inspect the system, trips that are taken to/from any of our “test” stations (which we were using more in June and July 2013), and any trips that were below 60 seconds in length (potentially false starts or users trying to re-dock a bike to ensure it's secure).\n",
    "\n",
    "[Download Citi Bike trip history data](https://s3.amazonaws.com/tripdata/index.html)\n",
    "\n",
    "**Monthly Operating Reports**\n",
    "\n",
    "View the [monthly operating reports](https://www.citibikenyc.com/system-data/operating-reports) that we provide to the NYC Department of Transportation.\n",
    "\n",
    "**Additional Resources**\n",
    "\n",
    "- The City of New York's [bicycling data](http://www.nyc.gov/html/dot/html/about/datafeeds.shtml#Bikes)\n",
    "- A group of software developers and data explorers working with data feeds from NYC's Bike Share system and other bike data maintain this [Google Group](https://groups.google.com/forum/#!aboutgroup/citibike-hackers) (note: Citi Bike is not responsible for this group – it is run and maintained by a group of interested private citizens)\n",
    "\n",
    "**TASK**\n",
    "\n",
    "The goal of this project is to apply everything we learned in this course and build an end-to-end machine learning project.\n",
    "\n",
    "Remember that to pass the project, you must evaluate 3 peers. If you don't do that, your project can't be considered compelete.\n",
    "\n",
    "Submitting\n",
    "\n",
    "Project Cohort #2\n",
    "\n",
    "Project:\n",
    "\n",
    "- Form: https://forms.gle/o1s3NmYE4UmFSMVD7\n",
    "- Deadline: 21 August (Monday), 23:00 CEST\n",
    "\n",
    "Peer reviewing:\n",
    "\n",
    "- Peer review assignments: TBA (\"project 2\" tab)\n",
    "- Form: TBA\n",
    "-  Deadline: TBA\n",
    "\n",
    "Project feedback: TBA (\"feedback-02\" tab)\n",
    "\n",
    "Evaluation criteria\n",
    "See [here](https://github.com/DataTalksClub/mlops-zoomcamp/blob/main/07-project/README.md)\n",
    "\n",
    "Questions: https://github.com/DataTalksClub/mlops-zoomcamp/tree/main/cohorts/2023/07-project"
   ]
  },
  {
   "cell_type": "markdown",
   "id": "78138c11",
   "metadata": {},
   "source": [
    "<div style=\"letter-spacing:normal; opacity:1.;\">\n",
    "  <h1 style=\"text-align:center; background-color: lightsalmon; color: Jaguar; border-radius:10px; font-family:monospace; border-radius:20px;\n",
    "            line-height:1.4; font-size:32px; font-weight:bold; text-transform: uppercase; padding: 9px;\">\n",
    "            <strong>1. Import Libraries & Ingest Data</strong></h1>   \n",
    "</div>\n",
    "\n",
    "> ⚠️ Not Recommended conda `base` env, work on `venv`\n",
    "\n",
    "- https://docs.conda.io/projects/conda/en/4.6.0/_downloads/52a95608c49671267e40c689e0bc00ca/conda-cheatsheet.pdf\n",
    "\n",
    "```\n",
    "pip freeze > requirements.txt\n",
    "conda list -e > requirements.txt\n",
    "\n",
    "# new conda virtual environment\n",
    "conda create --name \"lin-reg\" python=3.10 jupyter -y\n",
    "conda activate \"lin-reg\"\n",
    "\n",
    "# install all package dependencies\n",
    "pip install -r requirements.txt\n",
    "conda install -c conda-forge --file=requirements.txt      # mostly not work\n",
    "conda install -c conda-forge pandas==2.0.2 -q -y\n",
    "\n",
    "# if The environment is inconsistent, try below\n",
    "conda update -n base -c defaults conda --force-reinstall\n",
    "conda install anaconda --force-reinstall\n",
    "\n",
    "```\n",
    "\n",
    "**You must use the `--no-deps` option in the pip install command in order to avoid bundling dependencies into your conda-package.**\n",
    "\n",
    "If you run pip install without the `--no-deps` option, pip will often install dependencies in your conda recipe and those dependencies will become part of your package. This wastes space in the package and `increases the risk of file overlap`, file clobbering, and broken packages.\n",
    "\n",
    "There might be cases where you want to install a package directly from a local directory or a specific location, without relying on the package indexes. In such situations, you can use the `--no-index` option to tell pip not to look for the package in any indexes.\n",
    "\n",
    "```\n",
    "- command1 & command2  # runs simultaneously\n",
    "- command1 ; command2  # runs sequentially\n",
    "- command1 && command2 # runs sequentially, runs command2 only if command1 succeeds\n",
    "- command1 || command2 # runs sequentially, runs command2 only if command1 fails\n",
    "```"
   ]
  },
  {
   "cell_type": "code",
   "execution_count": 1,
   "id": "12da05a2",
   "metadata": {},
   "outputs": [
    {
     "name": "stdout",
     "output_type": "stream",
     "text": [
      "Python 3.10.12\n"
     ]
    }
   ],
   "source": [
    "!python -V"
   ]
  },
  {
   "cell_type": "code",
   "execution_count": 1,
   "id": "81ffeeb2",
   "metadata": {},
   "outputs": [
    {
     "data": {
      "text/plain": [
       "0"
      ]
     },
     "execution_count": 1,
     "metadata": {},
     "output_type": "execute_result"
    }
   ],
   "source": [
    "import numpy as np\n",
    "import pandas as pd\n",
    "import matplotlib as mpl\n",
    "import matplotlib.pyplot as plt\n",
    "import seaborn as sns\n",
    "\n",
    "from scipy.sparse import hstack\n",
    "from scipy.stats import stats\n",
    "\n",
    "from sklearn.feature_extraction import DictVectorizer\n",
    "# from sklearn.preprocessing import StandardScaler, MinMaxScaler, RobustScaler\n",
    "from sklearn.linear_model import LinearRegression\n",
    "from sklearn.linear_model import Lasso\n",
    "from sklearn.linear_model import Ridge\n",
    "from sklearn.ensemble import RandomForestRegressor\n",
    "# from sklearn.ensemble import GradientBoostingRegressor, ExtraTreesRegressor\n",
    "# from sklearn.svm import LinearSVR\n",
    "from sklearn.metrics import mean_squared_error, mean_absolute_error, r2_score\n",
    "\n",
    "import xgboost as xgb\n",
    "import optuna\n",
    "from optuna.samplers import TPESampler\n",
    "from hyperopt import fmin, tpe, hp, STATUS_OK, Trials\n",
    "from hyperopt.pyll import scope\n",
    "\n",
    "import os\n",
    "import sys\n",
    "import pickle\n",
    "import zipfile\n",
    "# import boto3\n",
    "# import click\n",
    "# import pathlib\n",
    "# import argparse\n",
    "# import requests\n",
    "# import urllib.request\n",
    "from glob import glob\n",
    "# from tqdm import tqdm           # console-based\n",
    "# from tqdm.notebook import tqdm  # jupyter-based\n",
    "from tqdm.auto import tqdm        # automatically selects\n",
    "# tqdm._instances.clear()\n",
    "\n",
    "# memory management performs garbage collection \n",
    "import gc\n",
    "gc.collect()"
   ]
  },
  {
   "cell_type": "code",
   "execution_count": 2,
   "id": "e78613e6",
   "metadata": {},
   "outputs": [],
   "source": [
    "import os\n",
    "# Get the current working directory\n",
    "# current_dir = os.getcwd()\n",
    "\n",
    "# Create a new directory for storing data\n",
    "# os.makedirs('./pycode', exist_ok=True)\n",
    "# os.makedirs('./data', exist_ok=True)\n",
    "os.makedirs('./output', exist_ok=True)\n",
    "os.makedirs('./model', exist_ok=True)"
   ]
  },
  {
   "cell_type": "markdown",
   "id": "cb564b98",
   "metadata": {},
   "source": [
    "<div style=\"letter-spacing:normal; opacity:1.;\">\n",
    "  <h1 style=\"text-align:center; background-color: lightsalmon; color: Jaguar; border-radius:10px; font-family:monospace; border-radius:20px;\n",
    "            line-height:1.4; font-size:32px; font-weight:bold; text-transform: uppercase; padding: 9px;\">\n",
    "            <strong>2. Recognizing and Understanding Data</strong></h1>   \n",
    "</div>"
   ]
  },
  {
   "cell_type": "markdown",
   "id": "fada2c5e",
   "metadata": {},
   "source": [
    "## Q1. Downloading the data\n",
    "\n",
    "We'll use [Citi Bike trip data](https://s3.amazonaws.com/tripdata/index.html),\n",
    "The \"JC\" in the first file name could possibly refer to Jersey City in New York, which might be the location associated with the Citi Bike data.\n",
    "\n",
    "Download the data (zip) for May and June 2023. For More look at Operating Reports (pdf).\n",
    "\n",
    "Read the data for May. How many columns are there?"
   ]
  },
  {
   "cell_type": "markdown",
   "id": "ebb5b120",
   "metadata": {},
   "source": [
    "### Ingest Data [wget](https://linuxways.net/centos/linux-wget-command-with-examples/) or [curl](https://daniel.haxx.se/blog/2020/09/10/store-the-curl-output-over-there/)"
   ]
  },
  {
   "cell_type": "code",
   "execution_count": 3,
   "id": "7e2a3fc1",
   "metadata": {},
   "outputs": [],
   "source": [
    "# \"Citi Bike trip data\" Download the data for May 2023\n",
    "# !curl -s -O --create-dirs --output-dir \"./data\" https://s3.amazonaws.com/tripdata/202305-citibike-tripdata.csv.zip\n",
    "# !curl -s -O --create-dirs --output-dir \"./data\" https://s3.amazonaws.com/tripdata/JC-202305-citibike-tripdata.csv.zip\n",
    "# !curl -s -O --create-dirs --output-dir \"./data\" https://mot-marketing-whitelabel-prod.s3.amazonaws.com/nyc/May-2023-Citi-Bike-Monthly-Report.pdf\n",
    "\n",
    "# \"Citi Bike trip data\" Download the data for June 2023\n",
    "# !curl -s -O --create-dirs --output-dir \"./data\" https://s3.amazonaws.com/tripdata/202306-citibike-tripdata.csv.zip\n",
    "# !curl -s -O --create-dirs --output-dir \"./data\" https://s3.amazonaws.com/tripdata/JC-202306-citibike-tripdata.csv.zip"
   ]
  },
  {
   "cell_type": "code",
   "execution_count": 20,
   "id": "044ce591",
   "metadata": {},
   "outputs": [
    {
     "data": {
      "text/plain": [
       "['data\\\\JC-202305-citibike-tripdata.csv',\n",
       " 'data\\\\JC-202305-citibike-tripdata.csv.zip',\n",
       " 'data\\\\JC-202306-citibike-tripdata.csv',\n",
       " 'data\\\\JC-202306-citibike-tripdata.csv.zip',\n",
       " 'data\\\\JC-202307-citibike-tripdata.csv',\n",
       " 'data\\\\JC-202307-citibike-tripdata.csv.zip']"
      ]
     },
     "execution_count": 20,
     "metadata": {},
     "output_type": "execute_result"
    }
   ],
   "source": [
    "glob('data/*.*')"
   ]
  },
  {
   "cell_type": "code",
   "execution_count": 21,
   "id": "c9984fe2",
   "metadata": {},
   "outputs": [],
   "source": [
    "# Read the data for (May 2023)\n",
    "# Specify the ZIP file path\n",
    "csv_filename = 'JC-202305-citibike-tripdata.csv'\n",
    "zip_file_path = f'data/{csv_filename}.zip'\n",
    "csv_file_path = f'data/{csv_filename}'\n",
    "\n",
    "# Extract the CSV file from the ZIP file\n",
    "with zipfile.ZipFile(zip_file_path, 'r') as zip_ref:\n",
    "    zip_ref.extract(csv_filename, path='data/')  # Extract to a specific directory\n",
    "\n",
    "# Read the extracted CSV file\n",
    "train_df = pd.read_csv(csv_file_path, low_memory=False)"
   ]
  },
  {
   "cell_type": "code",
   "execution_count": 22,
   "id": "eed03057",
   "metadata": {},
   "outputs": [],
   "source": [
    "# apply this model to the validation dataset (June 2023)\n",
    "# Specify the ZIP file path\n",
    "csv_filename = 'JC-202306-citibike-tripdata.csv'\n",
    "zip_file_path = f'data/{csv_filename}.zip'\n",
    "csv_file_path = f'data/{csv_filename}'\n",
    "\n",
    "# Extract the CSV file from the ZIP file\n",
    "with zipfile.ZipFile(zip_file_path, 'r') as zip_ref:\n",
    "    zip_ref.extract(csv_filename, path='data/')  # Extract to a specific directory\n",
    "\n",
    "# Read the extracted CSV file\n",
    "test_df = pd.read_csv(csv_file_path, low_memory=False)"
   ]
  },
  {
   "cell_type": "code",
   "execution_count": 23,
   "id": "bf1e3f04",
   "metadata": {},
   "outputs": [
    {
     "name": "stdout",
     "output_type": "stream",
     "text": [
      "Shape of DataFrame: (96002, 13)\n"
     ]
    },
    {
     "data": {
      "text/html": [
       "<div>\n",
       "<style scoped>\n",
       "    .dataframe tbody tr th:only-of-type {\n",
       "        vertical-align: middle;\n",
       "    }\n",
       "\n",
       "    .dataframe tbody tr th {\n",
       "        vertical-align: top;\n",
       "    }\n",
       "\n",
       "    .dataframe thead th {\n",
       "        text-align: right;\n",
       "    }\n",
       "</style>\n",
       "<table border=\"1\" class=\"dataframe\">\n",
       "  <thead>\n",
       "    <tr style=\"text-align: right;\">\n",
       "      <th></th>\n",
       "      <th>ride_id</th>\n",
       "      <th>rideable_type</th>\n",
       "      <th>started_at</th>\n",
       "      <th>ended_at</th>\n",
       "      <th>start_station_name</th>\n",
       "      <th>start_station_id</th>\n",
       "      <th>end_station_name</th>\n",
       "      <th>end_station_id</th>\n",
       "      <th>start_lat</th>\n",
       "      <th>start_lng</th>\n",
       "      <th>end_lat</th>\n",
       "      <th>end_lng</th>\n",
       "      <th>member_casual</th>\n",
       "    </tr>\n",
       "  </thead>\n",
       "  <tbody>\n",
       "    <tr>\n",
       "      <th>0</th>\n",
       "      <td>BC145343639B5E5B</td>\n",
       "      <td>classic_bike</td>\n",
       "      <td>2023-05-31 12:27:28</td>\n",
       "      <td>2023-05-31 12:38:36</td>\n",
       "      <td>Pershing Field</td>\n",
       "      <td>JC024</td>\n",
       "      <td>Newport PATH</td>\n",
       "      <td>JC066</td>\n",
       "      <td>40.742675</td>\n",
       "      <td>-74.051806</td>\n",
       "      <td>40.727224</td>\n",
       "      <td>-74.033759</td>\n",
       "      <td>member</td>\n",
       "    </tr>\n",
       "    <tr>\n",
       "      <th>1</th>\n",
       "      <td>A0CE41F47514FF5C</td>\n",
       "      <td>classic_bike</td>\n",
       "      <td>2023-05-01 18:12:37</td>\n",
       "      <td>2023-05-01 18:29:03</td>\n",
       "      <td>Pershing Field</td>\n",
       "      <td>JC024</td>\n",
       "      <td>Baldwin at Montgomery</td>\n",
       "      <td>JC020</td>\n",
       "      <td>40.742638</td>\n",
       "      <td>-74.051815</td>\n",
       "      <td>40.723659</td>\n",
       "      <td>-74.064194</td>\n",
       "      <td>casual</td>\n",
       "    </tr>\n",
       "    <tr>\n",
       "      <th>2</th>\n",
       "      <td>D588077E3D7E2AFD</td>\n",
       "      <td>electric_bike</td>\n",
       "      <td>2023-05-28 17:37:58</td>\n",
       "      <td>2023-05-28 18:39:39</td>\n",
       "      <td>Pershing Field</td>\n",
       "      <td>JC024</td>\n",
       "      <td>Pershing Field</td>\n",
       "      <td>JC024</td>\n",
       "      <td>40.742677</td>\n",
       "      <td>-74.051789</td>\n",
       "      <td>40.742677</td>\n",
       "      <td>-74.051789</td>\n",
       "      <td>casual</td>\n",
       "    </tr>\n",
       "    <tr>\n",
       "      <th>3</th>\n",
       "      <td>89AC48A5584B2DB4</td>\n",
       "      <td>classic_bike</td>\n",
       "      <td>2023-05-27 21:01:37</td>\n",
       "      <td>2023-05-27 21:13:16</td>\n",
       "      <td>Pershing Field</td>\n",
       "      <td>JC024</td>\n",
       "      <td>Manila &amp; 1st</td>\n",
       "      <td>JC082</td>\n",
       "      <td>40.742677</td>\n",
       "      <td>-74.051789</td>\n",
       "      <td>40.721651</td>\n",
       "      <td>-74.042884</td>\n",
       "      <td>member</td>\n",
       "    </tr>\n",
       "    <tr>\n",
       "      <th>4</th>\n",
       "      <td>709E0B11AB4A0E6C</td>\n",
       "      <td>classic_bike</td>\n",
       "      <td>2023-05-22 12:38:54</td>\n",
       "      <td>2023-05-22 13:02:13</td>\n",
       "      <td>Pershing Field</td>\n",
       "      <td>JC024</td>\n",
       "      <td>Jersey &amp; 3rd</td>\n",
       "      <td>JC074</td>\n",
       "      <td>40.742677</td>\n",
       "      <td>-74.051789</td>\n",
       "      <td>40.723332</td>\n",
       "      <td>-74.045953</td>\n",
       "      <td>member</td>\n",
       "    </tr>\n",
       "  </tbody>\n",
       "</table>\n",
       "</div>"
      ],
      "text/plain": [
       "            ride_id  rideable_type           started_at             ended_at  \\\n",
       "0  BC145343639B5E5B   classic_bike  2023-05-31 12:27:28  2023-05-31 12:38:36   \n",
       "1  A0CE41F47514FF5C   classic_bike  2023-05-01 18:12:37  2023-05-01 18:29:03   \n",
       "2  D588077E3D7E2AFD  electric_bike  2023-05-28 17:37:58  2023-05-28 18:39:39   \n",
       "3  89AC48A5584B2DB4   classic_bike  2023-05-27 21:01:37  2023-05-27 21:13:16   \n",
       "4  709E0B11AB4A0E6C   classic_bike  2023-05-22 12:38:54  2023-05-22 13:02:13   \n",
       "\n",
       "  start_station_name start_station_id       end_station_name end_station_id  \\\n",
       "0     Pershing Field            JC024           Newport PATH          JC066   \n",
       "1     Pershing Field            JC024  Baldwin at Montgomery          JC020   \n",
       "2     Pershing Field            JC024         Pershing Field          JC024   \n",
       "3     Pershing Field            JC024           Manila & 1st          JC082   \n",
       "4     Pershing Field            JC024           Jersey & 3rd          JC074   \n",
       "\n",
       "   start_lat  start_lng    end_lat    end_lng member_casual  \n",
       "0  40.742675 -74.051806  40.727224 -74.033759        member  \n",
       "1  40.742638 -74.051815  40.723659 -74.064194        casual  \n",
       "2  40.742677 -74.051789  40.742677 -74.051789        casual  \n",
       "3  40.742677 -74.051789  40.721651 -74.042884        member  \n",
       "4  40.742677 -74.051789  40.723332 -74.045953        member  "
      ]
     },
     "execution_count": 23,
     "metadata": {},
     "output_type": "execute_result"
    }
   ],
   "source": [
    "print(\"Shape of DataFrame:\", train_df.shape)\n",
    "train_df.head()"
   ]
  },
  {
   "cell_type": "code",
   "execution_count": 24,
   "id": "aea04971",
   "metadata": {},
   "outputs": [
    {
     "name": "stdout",
     "output_type": "stream",
     "text": [
      "Shape of DataFrame: (97023, 13)\n"
     ]
    },
    {
     "data": {
      "text/html": [
       "<div>\n",
       "<style scoped>\n",
       "    .dataframe tbody tr th:only-of-type {\n",
       "        vertical-align: middle;\n",
       "    }\n",
       "\n",
       "    .dataframe tbody tr th {\n",
       "        vertical-align: top;\n",
       "    }\n",
       "\n",
       "    .dataframe thead th {\n",
       "        text-align: right;\n",
       "    }\n",
       "</style>\n",
       "<table border=\"1\" class=\"dataframe\">\n",
       "  <thead>\n",
       "    <tr style=\"text-align: right;\">\n",
       "      <th></th>\n",
       "      <th>ride_id</th>\n",
       "      <th>rideable_type</th>\n",
       "      <th>started_at</th>\n",
       "      <th>ended_at</th>\n",
       "      <th>start_station_name</th>\n",
       "      <th>start_station_id</th>\n",
       "      <th>end_station_name</th>\n",
       "      <th>end_station_id</th>\n",
       "      <th>start_lat</th>\n",
       "      <th>start_lng</th>\n",
       "      <th>end_lat</th>\n",
       "      <th>end_lng</th>\n",
       "      <th>member_casual</th>\n",
       "    </tr>\n",
       "  </thead>\n",
       "  <tbody>\n",
       "    <tr>\n",
       "      <th>0</th>\n",
       "      <td>37BE5FCB1A385CDA</td>\n",
       "      <td>classic_bike</td>\n",
       "      <td>2023-06-27 16:06:27</td>\n",
       "      <td>2023-06-27 16:10:27</td>\n",
       "      <td>Hilltop</td>\n",
       "      <td>JC019</td>\n",
       "      <td>Christ Hospital</td>\n",
       "      <td>JC034</td>\n",
       "      <td>40.731115</td>\n",
       "      <td>-74.057468</td>\n",
       "      <td>40.734786</td>\n",
       "      <td>-74.050444</td>\n",
       "      <td>casual</td>\n",
       "    </tr>\n",
       "    <tr>\n",
       "      <th>1</th>\n",
       "      <td>9C96B4C6CBBB31AD</td>\n",
       "      <td>classic_bike</td>\n",
       "      <td>2023-06-24 10:46:58</td>\n",
       "      <td>2023-06-24 10:55:27</td>\n",
       "      <td>Baldwin at Montgomery</td>\n",
       "      <td>JC020</td>\n",
       "      <td>Hamilton Park</td>\n",
       "      <td>JC009</td>\n",
       "      <td>40.723473</td>\n",
       "      <td>-74.064338</td>\n",
       "      <td>40.727596</td>\n",
       "      <td>-74.044247</td>\n",
       "      <td>member</td>\n",
       "    </tr>\n",
       "    <tr>\n",
       "      <th>2</th>\n",
       "      <td>C91293605D4BEC07</td>\n",
       "      <td>electric_bike</td>\n",
       "      <td>2023-06-04 20:30:13</td>\n",
       "      <td>2023-06-04 20:34:31</td>\n",
       "      <td>Hilltop</td>\n",
       "      <td>JC019</td>\n",
       "      <td>Brunswick St</td>\n",
       "      <td>JC023</td>\n",
       "      <td>40.731169</td>\n",
       "      <td>-74.057574</td>\n",
       "      <td>40.724176</td>\n",
       "      <td>-74.050656</td>\n",
       "      <td>member</td>\n",
       "    </tr>\n",
       "    <tr>\n",
       "      <th>3</th>\n",
       "      <td>2920063442116A46</td>\n",
       "      <td>classic_bike</td>\n",
       "      <td>2023-06-08 19:10:06</td>\n",
       "      <td>2023-06-08 19:13:05</td>\n",
       "      <td>Baldwin at Montgomery</td>\n",
       "      <td>JC020</td>\n",
       "      <td>Astor Place</td>\n",
       "      <td>JC077</td>\n",
       "      <td>40.723499</td>\n",
       "      <td>-74.064335</td>\n",
       "      <td>40.719282</td>\n",
       "      <td>-74.071262</td>\n",
       "      <td>member</td>\n",
       "    </tr>\n",
       "    <tr>\n",
       "      <th>4</th>\n",
       "      <td>E205FD8C18BA263A</td>\n",
       "      <td>classic_bike</td>\n",
       "      <td>2023-06-23 18:53:51</td>\n",
       "      <td>2023-06-23 19:17:50</td>\n",
       "      <td>Baldwin at Montgomery</td>\n",
       "      <td>JC020</td>\n",
       "      <td>Adams St &amp; 11 St</td>\n",
       "      <td>HB507</td>\n",
       "      <td>40.723511</td>\n",
       "      <td>-74.064277</td>\n",
       "      <td>40.750916</td>\n",
       "      <td>-74.033541</td>\n",
       "      <td>member</td>\n",
       "    </tr>\n",
       "  </tbody>\n",
       "</table>\n",
       "</div>"
      ],
      "text/plain": [
       "            ride_id  rideable_type           started_at             ended_at  \\\n",
       "0  37BE5FCB1A385CDA   classic_bike  2023-06-27 16:06:27  2023-06-27 16:10:27   \n",
       "1  9C96B4C6CBBB31AD   classic_bike  2023-06-24 10:46:58  2023-06-24 10:55:27   \n",
       "2  C91293605D4BEC07  electric_bike  2023-06-04 20:30:13  2023-06-04 20:34:31   \n",
       "3  2920063442116A46   classic_bike  2023-06-08 19:10:06  2023-06-08 19:13:05   \n",
       "4  E205FD8C18BA263A   classic_bike  2023-06-23 18:53:51  2023-06-23 19:17:50   \n",
       "\n",
       "      start_station_name start_station_id  end_station_name end_station_id  \\\n",
       "0                Hilltop            JC019   Christ Hospital          JC034   \n",
       "1  Baldwin at Montgomery            JC020     Hamilton Park          JC009   \n",
       "2                Hilltop            JC019      Brunswick St          JC023   \n",
       "3  Baldwin at Montgomery            JC020       Astor Place          JC077   \n",
       "4  Baldwin at Montgomery            JC020  Adams St & 11 St          HB507   \n",
       "\n",
       "   start_lat  start_lng    end_lat    end_lng member_casual  \n",
       "0  40.731115 -74.057468  40.734786 -74.050444        casual  \n",
       "1  40.723473 -74.064338  40.727596 -74.044247        member  \n",
       "2  40.731169 -74.057574  40.724176 -74.050656        member  \n",
       "3  40.723499 -74.064335  40.719282 -74.071262        member  \n",
       "4  40.723511 -74.064277  40.750916 -74.033541        member  "
      ]
     },
     "execution_count": 24,
     "metadata": {},
     "output_type": "execute_result"
    }
   ],
   "source": [
    "print(\"Shape of DataFrame:\", test_df.shape)\n",
    "test_df.head()"
   ]
  },
  {
   "cell_type": "code",
   "execution_count": 76,
   "id": "aff0dcfa",
   "metadata": {},
   "outputs": [
    {
     "data": {
      "text/plain": [
       "member_casual\n",
       "member    69222\n",
       "casual    26780\n",
       "Name: count, dtype: int64"
      ]
     },
     "execution_count": 76,
     "metadata": {},
     "output_type": "execute_result"
    }
   ],
   "source": [
    "train_df['member_casual'].value_counts()"
   ]
  },
  {
   "cell_type": "code",
   "execution_count": 25,
   "id": "6e9f1c01",
   "metadata": {},
   "outputs": [
    {
     "name": "stdout",
     "output_type": "stream",
     "text": [
      "<class 'pandas.core.frame.DataFrame'>\n",
      "RangeIndex: 96002 entries, 0 to 96001\n",
      "Data columns (total 13 columns):\n",
      " #   Column              Non-Null Count  Dtype  \n",
      "---  ------              --------------  -----  \n",
      " 0   ride_id             96002 non-null  object \n",
      " 1   rideable_type       96002 non-null  object \n",
      " 2   started_at          96002 non-null  object \n",
      " 3   ended_at            96002 non-null  object \n",
      " 4   start_station_name  96002 non-null  object \n",
      " 5   start_station_id    96002 non-null  object \n",
      " 6   end_station_name    95736 non-null  object \n",
      " 7   end_station_id      95736 non-null  object \n",
      " 8   start_lat           96002 non-null  float64\n",
      " 9   start_lng           96002 non-null  float64\n",
      " 10  end_lat             95865 non-null  float64\n",
      " 11  end_lng             95865 non-null  float64\n",
      " 12  member_casual       96002 non-null  object \n",
      "dtypes: float64(4), object(9)\n",
      "memory usage: 9.5+ MB\n"
     ]
    }
   ],
   "source": [
    "train_df.info()"
   ]
  },
  {
   "cell_type": "code",
   "execution_count": 26,
   "id": "76514f7e",
   "metadata": {},
   "outputs": [],
   "source": [
    "train_df = train_df[train_df.notna()]"
   ]
  },
  {
   "cell_type": "code",
   "execution_count": 27,
   "id": "33458de4",
   "metadata": {},
   "outputs": [
    {
     "name": "stdout",
     "output_type": "stream",
     "text": [
      "<class 'pandas.core.frame.DataFrame'>\n",
      "RangeIndex: 97023 entries, 0 to 97022\n",
      "Data columns (total 13 columns):\n",
      " #   Column              Non-Null Count  Dtype  \n",
      "---  ------              --------------  -----  \n",
      " 0   ride_id             97023 non-null  object \n",
      " 1   rideable_type       97023 non-null  object \n",
      " 2   started_at          97023 non-null  object \n",
      " 3   ended_at            97023 non-null  object \n",
      " 4   start_station_name  96968 non-null  object \n",
      " 5   start_station_id    96968 non-null  object \n",
      " 6   end_station_name    96662 non-null  object \n",
      " 7   end_station_id      96662 non-null  object \n",
      " 8   start_lat           97023 non-null  float64\n",
      " 9   start_lng           97023 non-null  float64\n",
      " 10  end_lat             96935 non-null  float64\n",
      " 11  end_lng             96935 non-null  float64\n",
      " 12  member_casual       97023 non-null  object \n",
      "dtypes: float64(4), object(9)\n",
      "memory usage: 9.6+ MB\n"
     ]
    }
   ],
   "source": [
    "test_df.info()"
   ]
  },
  {
   "cell_type": "code",
   "execution_count": 28,
   "id": "f03accfa",
   "metadata": {},
   "outputs": [],
   "source": [
    "test_df = test_df[test_df.notna()]"
   ]
  },
  {
   "cell_type": "code",
   "execution_count": 29,
   "id": "4bce096c",
   "metadata": {},
   "outputs": [
    {
     "data": {
      "text/html": [
       "<div>\n",
       "<style scoped>\n",
       "    .dataframe tbody tr th:only-of-type {\n",
       "        vertical-align: middle;\n",
       "    }\n",
       "\n",
       "    .dataframe tbody tr th {\n",
       "        vertical-align: top;\n",
       "    }\n",
       "\n",
       "    .dataframe thead th {\n",
       "        text-align: right;\n",
       "    }\n",
       "</style>\n",
       "<table border=\"1\" class=\"dataframe\">\n",
       "  <thead>\n",
       "    <tr style=\"text-align: right;\">\n",
       "      <th></th>\n",
       "      <th>count</th>\n",
       "      <th>mean</th>\n",
       "      <th>std</th>\n",
       "      <th>min</th>\n",
       "      <th>25%</th>\n",
       "      <th>50%</th>\n",
       "      <th>75%</th>\n",
       "      <th>max</th>\n",
       "    </tr>\n",
       "  </thead>\n",
       "  <tbody>\n",
       "    <tr>\n",
       "      <th>start_lat</th>\n",
       "      <td>96002.0</td>\n",
       "      <td>40.732197</td>\n",
       "      <td>0.012364</td>\n",
       "      <td>40.705959</td>\n",
       "      <td>40.721124</td>\n",
       "      <td>40.735208</td>\n",
       "      <td>40.742321</td>\n",
       "      <td>40.755047</td>\n",
       "    </tr>\n",
       "    <tr>\n",
       "      <th>start_lng</th>\n",
       "      <td>96002.0</td>\n",
       "      <td>-74.040065</td>\n",
       "      <td>0.011906</td>\n",
       "      <td>-74.086783</td>\n",
       "      <td>-74.045572</td>\n",
       "      <td>-74.037683</td>\n",
       "      <td>-74.030970</td>\n",
       "      <td>-74.023787</td>\n",
       "    </tr>\n",
       "    <tr>\n",
       "      <th>end_lat</th>\n",
       "      <td>95865.0</td>\n",
       "      <td>40.732155</td>\n",
       "      <td>0.012546</td>\n",
       "      <td>40.660000</td>\n",
       "      <td>40.719420</td>\n",
       "      <td>40.735208</td>\n",
       "      <td>40.742659</td>\n",
       "      <td>40.849972</td>\n",
       "    </tr>\n",
       "    <tr>\n",
       "      <th>end_lng</th>\n",
       "      <td>95865.0</td>\n",
       "      <td>-74.039760</td>\n",
       "      <td>0.012095</td>\n",
       "      <td>-74.110000</td>\n",
       "      <td>-74.044247</td>\n",
       "      <td>-74.037683</td>\n",
       "      <td>-74.030970</td>\n",
       "      <td>-73.905060</td>\n",
       "    </tr>\n",
       "  </tbody>\n",
       "</table>\n",
       "</div>"
      ],
      "text/plain": [
       "             count       mean       std        min        25%        50%  \\\n",
       "start_lat  96002.0  40.732197  0.012364  40.705959  40.721124  40.735208   \n",
       "start_lng  96002.0 -74.040065  0.011906 -74.086783 -74.045572 -74.037683   \n",
       "end_lat    95865.0  40.732155  0.012546  40.660000  40.719420  40.735208   \n",
       "end_lng    95865.0 -74.039760  0.012095 -74.110000 -74.044247 -74.037683   \n",
       "\n",
       "                 75%        max  \n",
       "start_lat  40.742321  40.755047  \n",
       "start_lng -74.030970 -74.023787  \n",
       "end_lat    40.742659  40.849972  \n",
       "end_lng   -74.030970 -73.905060  "
      ]
     },
     "execution_count": 29,
     "metadata": {},
     "output_type": "execute_result"
    }
   ],
   "source": [
    "# train_df.describe(datetime_is_numeric=True).T\n",
    "train_df.describe().T"
   ]
  },
  {
   "cell_type": "code",
   "execution_count": 30,
   "id": "5b166a71",
   "metadata": {},
   "outputs": [
    {
     "data": {
      "text/html": [
       "<div>\n",
       "<style scoped>\n",
       "    .dataframe tbody tr th:only-of-type {\n",
       "        vertical-align: middle;\n",
       "    }\n",
       "\n",
       "    .dataframe tbody tr th {\n",
       "        vertical-align: top;\n",
       "    }\n",
       "\n",
       "    .dataframe thead th {\n",
       "        text-align: right;\n",
       "    }\n",
       "</style>\n",
       "<table border=\"1\" class=\"dataframe\">\n",
       "  <thead>\n",
       "    <tr style=\"text-align: right;\">\n",
       "      <th></th>\n",
       "      <th>count</th>\n",
       "      <th>mean</th>\n",
       "      <th>std</th>\n",
       "      <th>min</th>\n",
       "      <th>25%</th>\n",
       "      <th>50%</th>\n",
       "      <th>75%</th>\n",
       "      <th>max</th>\n",
       "    </tr>\n",
       "  </thead>\n",
       "  <tbody>\n",
       "    <tr>\n",
       "      <th>start_lat</th>\n",
       "      <td>97023.0</td>\n",
       "      <td>40.731985</td>\n",
       "      <td>0.012410</td>\n",
       "      <td>40.706575</td>\n",
       "      <td>40.719420</td>\n",
       "      <td>40.734920</td>\n",
       "      <td>40.742258</td>\n",
       "      <td>40.863943</td>\n",
       "    </tr>\n",
       "    <tr>\n",
       "      <th>start_lng</th>\n",
       "      <td>97023.0</td>\n",
       "      <td>-74.039809</td>\n",
       "      <td>0.011579</td>\n",
       "      <td>-74.086776</td>\n",
       "      <td>-74.044247</td>\n",
       "      <td>-74.037683</td>\n",
       "      <td>-74.031088</td>\n",
       "      <td>-73.941173</td>\n",
       "    </tr>\n",
       "    <tr>\n",
       "      <th>end_lat</th>\n",
       "      <td>96935.0</td>\n",
       "      <td>40.731997</td>\n",
       "      <td>0.012492</td>\n",
       "      <td>40.670000</td>\n",
       "      <td>40.719410</td>\n",
       "      <td>40.734961</td>\n",
       "      <td>40.742258</td>\n",
       "      <td>40.863124</td>\n",
       "    </tr>\n",
       "    <tr>\n",
       "      <th>end_lng</th>\n",
       "      <td>96935.0</td>\n",
       "      <td>-74.039593</td>\n",
       "      <td>0.011751</td>\n",
       "      <td>-74.160000</td>\n",
       "      <td>-74.044247</td>\n",
       "      <td>-74.037683</td>\n",
       "      <td>-74.030970</td>\n",
       "      <td>-73.911640</td>\n",
       "    </tr>\n",
       "  </tbody>\n",
       "</table>\n",
       "</div>"
      ],
      "text/plain": [
       "             count       mean       std        min        25%        50%  \\\n",
       "start_lat  97023.0  40.731985  0.012410  40.706575  40.719420  40.734920   \n",
       "start_lng  97023.0 -74.039809  0.011579 -74.086776 -74.044247 -74.037683   \n",
       "end_lat    96935.0  40.731997  0.012492  40.670000  40.719410  40.734961   \n",
       "end_lng    96935.0 -74.039593  0.011751 -74.160000 -74.044247 -74.037683   \n",
       "\n",
       "                 75%        max  \n",
       "start_lat  40.742258  40.863943  \n",
       "start_lng -74.031088 -73.941173  \n",
       "end_lat    40.742258  40.863124  \n",
       "end_lng   -74.030970 -73.911640  "
      ]
     },
     "execution_count": 30,
     "metadata": {},
     "output_type": "execute_result"
    }
   ],
   "source": [
    "test_df.describe().T"
   ]
  },
  {
   "cell_type": "markdown",
   "id": "d3997711",
   "metadata": {},
   "source": [
    "## Q2. Computing duration (Data Preparation)\n",
    "\n",
    "Now let's compute the `duration` variable. It should contain the duration of a ride in minutes. \n",
    "\n",
    "What's the standard deviation of the trips duration in May?"
   ]
  },
  {
   "cell_type": "code",
   "execution_count": 31,
   "id": "bc913f2e",
   "metadata": {},
   "outputs": [
    {
     "name": "stdout",
     "output_type": "stream",
     "text": [
      "0       0 days 00:11:08\n",
      "1       0 days 00:16:26\n",
      "2       0 days 01:01:41\n",
      "3       0 days 00:11:39\n",
      "4       0 days 00:23:19\n",
      "              ...      \n",
      "95997   0 days 00:26:27\n",
      "95998   0 days 00:12:55\n",
      "95999   0 days 00:11:18\n",
      "96000   0 days 00:07:53\n",
      "96001   0 days 00:09:08\n",
      "Name: duration, Length: 96002, dtype: timedelta64[ns]\n"
     ]
    }
   ],
   "source": [
    "# Convert Datetime\n",
    "train_df['started_at'] = pd.to_datetime(train_df['started_at'])\n",
    "train_df['ended_at']  = pd.to_datetime(train_df['ended_at'])\n",
    "\n",
    "test_df['started_at'] = pd.to_datetime(test_df['started_at'])\n",
    "test_df['ended_at']  = pd.to_datetime(test_df['ended_at'])\n",
    "\n",
    "# Calculate duration\n",
    "train_df['duration'] = train_df['ended_at'] - train_df['started_at']\n",
    "test_df['duration']  = test_df['ended_at']  - test_df['started_at']\n",
    "\n",
    "# Display the duration\n",
    "print(train_df['duration'])"
   ]
  },
  {
   "cell_type": "code",
   "execution_count": 32,
   "id": "a65252db",
   "metadata": {},
   "outputs": [
    {
     "name": "stdout",
     "output_type": "stream",
     "text": [
      "0        11.133333\n",
      "1        16.433333\n",
      "2        61.683333\n",
      "3        11.650000\n",
      "4        23.316667\n",
      "           ...    \n",
      "95997    26.450000\n",
      "95998    12.916667\n",
      "95999    11.300000\n",
      "96000     7.883333\n",
      "96001     9.133333\n",
      "Name: duration_minutes, Length: 96002, dtype: float64\n"
     ]
    }
   ],
   "source": [
    "# Convert duration to minutes\n",
    "train_df['duration_minutes'] = train_df['duration'].dt.total_seconds() / 60\n",
    "test_df['duration_minutes']  = test_df['duration'].dt.total_seconds() / 60\n",
    "\n",
    "# Display the duration in minutes\n",
    "print(train_df['duration_minutes'])"
   ]
  },
  {
   "cell_type": "code",
   "execution_count": 33,
   "id": "688796f2",
   "metadata": {},
   "outputs": [
    {
     "name": "stdout",
     "output_type": "stream",
     "text": [
      "standard deviation of the trips duration: 109.4\n"
     ]
    }
   ],
   "source": [
    "# Compute standard deviation of population via Pandas\n",
    "std_dev = train_df['duration_minutes'].std(ddof=0)\n",
    "\n",
    "# Round the result to 2 decimal places\n",
    "std_dev = round(std_dev, 2)\n",
    "\n",
    "# Display the standard deviation\n",
    "print(\"standard deviation of the trips duration:\", std_dev)"
   ]
  },
  {
   "cell_type": "markdown",
   "id": "4ba31fa3",
   "metadata": {},
   "source": [
    "<div style=\"letter-spacing:normal; opacity:1.;\">\n",
    "  <h1 style=\"text-align:center; background-color: lightsalmon; color: Jaguar; border-radius:10px; font-family:monospace; border-radius:20px;\n",
    "            line-height:1.4; font-size:32px; font-weight:bold; text-transform: uppercase; padding: 9px;\">\n",
    "            <strong>3. Exloratory Data Analysis</strong></h1>   \n",
    "</div>"
   ]
  },
  {
   "cell_type": "markdown",
   "id": "00a981e5",
   "metadata": {},
   "source": [
    "## Q3. Dropping outliers\n",
    "\n",
    "Next, we need to check the distribution of the `duration` variable. There are some outliers. Let's remove them and keep only the records where the duration was between 1 and 60 minutes (inclusive).\n",
    "\n",
    "What fraction of the records left after you dropped the outliers?"
   ]
  },
  {
   "cell_type": "code",
   "execution_count": 34,
   "id": "c8d229b6",
   "metadata": {},
   "outputs": [
    {
     "data": {
      "image/png": "[encoded data removed]",
      "text/plain": [
       "<Figure size 1000x200 with 1 Axes>"
      ]
     },
     "metadata": {},
     "output_type": "display_data"
    }
   ],
   "source": [
    "# Create a boxplot\n",
    "plt.figure(figsize=(10, 2))\n",
    "sns.boxplot(x=train_df['duration_minutes'])\n",
    "\n",
    "# Set title and labels\n",
    "plt.title(\"Boxplot of Trip Durations\")\n",
    "plt.xlabel(\"Duration (minutes)\")\n",
    "\n",
    "# Generate description\n",
    "description      = train_df['duration_minutes'].describe().round(2)\n",
    "description_text = \"\\n\".join(f\"{stat:<5}: {value}\" for stat, value in description.items())\n",
    "\n",
    "# Add description text\n",
    "plt.figtext(.915, 0.19, description_text, bbox={'facecolor': 'white', 'alpha': 0.5, 'pad': 9.5})\n",
    "\n",
    "# Display the plot\n",
    "plt.show()"
   ]
  },
  {
   "cell_type": "code",
   "execution_count": 35,
   "id": "f8663530",
   "metadata": {},
   "outputs": [
    {
     "data": {
      "text/html": [
       "<div>\n",
       "<style scoped>\n",
       "    .dataframe tbody tr th:only-of-type {\n",
       "        vertical-align: middle;\n",
       "    }\n",
       "\n",
       "    .dataframe tbody tr th {\n",
       "        vertical-align: top;\n",
       "    }\n",
       "\n",
       "    .dataframe thead th {\n",
       "        text-align: right;\n",
       "    }\n",
       "</style>\n",
       "<table border=\"1\" class=\"dataframe\">\n",
       "  <thead>\n",
       "    <tr style=\"text-align: right;\">\n",
       "      <th></th>\n",
       "      <th>count</th>\n",
       "      <th>mean</th>\n",
       "      <th>std</th>\n",
       "      <th>min</th>\n",
       "      <th>1%</th>\n",
       "      <th>3.5%</th>\n",
       "      <th>50%</th>\n",
       "      <th>98.2%</th>\n",
       "      <th>99.5%</th>\n",
       "      <th>max</th>\n",
       "    </tr>\n",
       "  </thead>\n",
       "  <tbody>\n",
       "    <tr>\n",
       "      <th>duration_minutes</th>\n",
       "      <td>96002.0</td>\n",
       "      <td>15.267412</td>\n",
       "      <td>109.401606</td>\n",
       "      <td>0.0</td>\n",
       "      <td>0.433333</td>\n",
       "      <td>1.533333</td>\n",
       "      <td>6.883333</td>\n",
       "      <td>68.732433</td>\n",
       "      <td>164.673248</td>\n",
       "      <td>17112.15</td>\n",
       "    </tr>\n",
       "  </tbody>\n",
       "</table>\n",
       "</div>"
      ],
      "text/plain": [
       "                    count       mean         std  min        1%      3.5%  \\\n",
       "duration_minutes  96002.0  15.267412  109.401606  0.0  0.433333  1.533333   \n",
       "\n",
       "                       50%      98.2%       99.5%       max  \n",
       "duration_minutes  6.883333  68.732433  164.673248  17112.15  "
      ]
     },
     "execution_count": 35,
     "metadata": {},
     "output_type": "execute_result"
    }
   ],
   "source": [
    "# Specify percentiles for description\n",
    "train_df[[\"duration_minutes\"]].describe(percentiles=[0.01, 0.035, 0.982, 0.9949]).T"
   ]
  },
  {
   "cell_type": "code",
   "execution_count": 36,
   "id": "019d869c",
   "metadata": {},
   "outputs": [
    {
     "name": "stdout",
     "output_type": "stream",
     "text": [
      "fraction of the records: 0.96\n"
     ]
    }
   ],
   "source": [
    "# Define criteria for outliers \n",
    "lower_threshold = 1   \n",
    "upper_threshold = 60  \n",
    "\n",
    "# Filter DataFrame based on outlier criteria\n",
    "filtered_train_df = train_df[\n",
    "    (train_df['duration_minutes'] >= lower_threshold) & \n",
    "    (train_df['duration_minutes'] <= upper_threshold)\n",
    "]\n",
    "\n",
    "# Filter DataFrame based on outlier criteria\n",
    "filtered_test_df = test_df[\n",
    "    (test_df['duration_minutes'] >= lower_threshold) & \n",
    "    (test_df['duration_minutes'] <= upper_threshold)\n",
    "]\n",
    "\n",
    "# Calculate the fraction of records left after dropping outliers\n",
    "fraction_left = len(filtered_train_df) / len(train_df)\n",
    "fraction_left = round(fraction_left, 2)\n",
    "\n",
    "# Display the fraction\n",
    "print(\"fraction of the records:\", fraction_left)"
   ]
  },
  {
   "cell_type": "markdown",
   "id": "adfc2d71",
   "metadata": {},
   "source": [
    "<div style=\"letter-spacing:normal; opacity:1.;\">\n",
    "  <h1 style=\"text-align:center; background-color: lightsalmon; color: Jaguar; border-radius:10px; font-family:monospace; border-radius:20px;\n",
    "            line-height:1.4; font-size:32px; font-weight:bold; text-transform: uppercase; padding: 9px;\">\n",
    "            <strong>4. Data Preprocessing</strong></h1>   \n",
    "</div>"
   ]
  },
  {
   "cell_type": "markdown",
   "id": "3d1d2af7",
   "metadata": {},
   "source": [
    "## Q4. One-hot encoding (Feature Selection and Handling Categorical Variables)\n",
    "\n",
    "Let's apply one-hot encoding to the pickup and dropoff location IDs. We'll use only these two features for our model. \n",
    "\n",
    "* Turn the dataframe into a list of dictionaries\n",
    "* Fit a dictionary vectorizer \n",
    "* Get a feature matrix from it\n",
    "\n",
    "What's the dimensionality of this matrix (number of columns)?"
   ]
  },
  {
   "cell_type": "code",
   "execution_count": 42,
   "id": "3d2d25a3",
   "metadata": {},
   "outputs": [
    {
     "name": "stdout",
     "output_type": "stream",
     "text": [
      "number of columns: 380\n"
     ]
    }
   ],
   "source": [
    "from sklearn.feature_extraction import DictVectorizer\n",
    "\n",
    "# Define the categorical columns\n",
    "categorical_features = [\n",
    "    'start_station_id',\n",
    "    'end_station_id'\n",
    "]\n",
    "X_train_categorical = filtered_train_df[categorical_features]\n",
    "X_test_categorical = filtered_test_df[categorical_features]\n",
    "\n",
    "# Convert categorical features to dictionary-like structures\n",
    "X_train_cat_dict = X_train_categorical.astype(str).to_dict(orient='records')\n",
    "X_test_cat_dict  = X_test_categorical.astype(str).to_dict(orient='records')\n",
    "\n",
    "# Instantiate and fit DictVectorizer for categorical features, use Sparse Representation instead of Dense\n",
    "dv = DictVectorizer(sparse=True)  # Use sparse=True for memory efficiency\n",
    "\n",
    "# Perform one-hot encoding on the location IDs\n",
    "X_train = dv.fit_transform(X_train_cat_dict)\n",
    "X_test  = dv.transform(X_test_cat_dict)\n",
    "\n",
    "# Get the dimensionality of the feature matrix\n",
    "num_columns = X_train.shape[1]\n",
    "\n",
    "# Display the dimensionality\n",
    "print(\"number of columns:\", num_columns)"
   ]
  },
  {
   "cell_type": "code",
   "execution_count": 43,
   "id": "40c09b9b",
   "metadata": {},
   "outputs": [],
   "source": [
    "with open(\"model/preprocessor.b\", \"wb\") as f_out:\n",
    "    pickle.dump(dv, f_out)"
   ]
  },
  {
   "cell_type": "code",
   "execution_count": 44,
   "id": "cdbc3b2d",
   "metadata": {},
   "outputs": [],
   "source": [
    "# pd.DataFrame.sparse.from_spmatrix(X_train, columns=dv.feature_names_)"
   ]
  },
  {
   "cell_type": "markdown",
   "id": "9a8628a6",
   "metadata": {},
   "source": [
    "<div style=\"letter-spacing:normal; opacity:1.;\">\n",
    "  <h1 style=\"text-align:center; background-color: lightsalmon; color: Jaguar; border-radius:10px; font-family:monospace; border-radius:20px;\n",
    "            line-height:1.4; font-size:32px; font-weight:bold; text-transform: uppercase; padding: 9px;\">\n",
    "            <strong>5. Parametric Model Training</strong></h1>   \n",
    "</div>"
   ]
  },
  {
   "cell_type": "markdown",
   "id": "47b07bd6",
   "metadata": {},
   "source": [
    "## Implemet Linear Regression\n",
    "\n",
    "### Vanilla Linear Regression\n",
    "\n",
    "## Q5. Training a model\n",
    "\n",
    "Now let's use the feature matrix from the previous step to train a model. \n",
    "\n",
    "* Train a plain linear regression model with default parameters \n",
    "* Calculate the RMSE of the model on the training data\n",
    "\n",
    "What's the RMSE on train?"
   ]
  },
  {
   "cell_type": "code",
   "execution_count": 45,
   "id": "1f57e3bf",
   "metadata": {},
   "outputs": [
    {
     "data": {
      "text/plain": [
       "((91733, 380), (91733,))"
      ]
     },
     "execution_count": 45,
     "metadata": {},
     "output_type": "execute_result"
    }
   ],
   "source": [
    "# Define the target variable\n",
    "target = 'duration_minutes'\n",
    "y_train = filtered_train_df[target]\n",
    "\n",
    "# feature matrix and target array\n",
    "X_train.shape, y_train.shape"
   ]
  },
  {
   "cell_type": "code",
   "execution_count": 46,
   "id": "f6963f8a",
   "metadata": {},
   "outputs": [
    {
     "data": {
      "text/plain": [
       "array([12.76210722, 13.53062522, 11.15577165, ..., 11.9658451 ,\n",
       "       12.79450209, 11.9658451 ])"
      ]
     },
     "execution_count": 46,
     "metadata": {},
     "output_type": "execute_result"
    }
   ],
   "source": [
    "from sklearn.linear_model import LinearRegression, Ridge, Lasso\n",
    "\n",
    "# Initialize and Train the linear regression model\n",
    "model = LinearRegression()\n",
    "model.fit(X_train, y_train)\n",
    "\n",
    "# Predict the target variable\n",
    "y_train_pred = model.predict(X_train)\n",
    "y_train_pred"
   ]
  },
  {
   "cell_type": "code",
   "execution_count": 47,
   "id": "09039f9a",
   "metadata": {},
   "outputs": [],
   "source": [
    "with open('model/lin_reg_model.bin', 'wb') as f_out:\n",
    "    pickle.dump((dv, model), f_out)"
   ]
  },
  {
   "cell_type": "code",
   "execution_count": 48,
   "id": "2111da90",
   "metadata": {},
   "outputs": [
    {
     "data": {
      "image/png": "[encoded data removed]",
      "text/plain": [
       "<Figure size 640x480 with 1 Axes>"
      ]
     },
     "metadata": {},
     "output_type": "display_data"
    }
   ],
   "source": [
    "# Create a histogram plot using seaborn with a kernel density estimate line\n",
    "sns.histplot(\n",
    "    y_train,\n",
    "    stat=\"density\", kde=True,\n",
    "    bins='auto', discrete=False,\n",
    "    label='Actual', color='blue'\n",
    ")\n",
    "sns.histplot(\n",
    "    y_train_pred,\n",
    "    stat=\"density\", kde=True,\n",
    "    bins='auto', discrete=False,\n",
    "    label='Prediction', color='orange'\n",
    ")\n",
    "\n",
    "# Set title and labels\n",
    "plt.title(\"Distribution of Trip Durations\")\n",
    "plt.xlabel(\"Duration (minutes)\")\n",
    "\n",
    "# Display the legend and plot\n",
    "plt.legend()\n",
    "plt.show()"
   ]
  },
  {
   "cell_type": "code",
   "execution_count": 49,
   "id": "2c96de32",
   "metadata": {},
   "outputs": [
    {
     "name": "stdout",
     "output_type": "stream",
     "text": [
      "RMSE on train: 8.39\n"
     ]
    }
   ],
   "source": [
    "from sklearn.metrics import mean_squared_error\n",
    "\n",
    "# Calculate the RMSE on the training data\n",
    "rmse = mean_squared_error(y_train, y_train_pred, squared=False)\n",
    "\n",
    "# Display the rounded RMSE\n",
    "print(\"RMSE on train:\", round(rmse, 2))"
   ]
  },
  {
   "cell_type": "code",
   "execution_count": 50,
   "id": "079023a7",
   "metadata": {},
   "outputs": [
    {
     "data": {
      "text/plain": [
       "0.11740517727636912"
      ]
     },
     "execution_count": 50,
     "metadata": {},
     "output_type": "execute_result"
    }
   ],
   "source": [
    "from sklearn.metrics import r2_score\n",
    "\n",
    "# Calculate the R2 on the training data\n",
    "r2_score(y_train, y_train_pred)"
   ]
  },
  {
   "cell_type": "markdown",
   "id": "a4727428",
   "metadata": {},
   "source": [
    "## Q6. Evaluating the model\n",
    "\n",
    "Now let's apply this model to the validation dataset (June 2023). \n",
    "\n",
    "What's the RMSE on validation?"
   ]
  },
  {
   "cell_type": "code",
   "execution_count": 52,
   "id": "3dac0332",
   "metadata": {},
   "outputs": [
    {
     "data": {
      "text/html": [
       "<div>\n",
       "<style scoped>\n",
       "    .dataframe tbody tr th:only-of-type {\n",
       "        vertical-align: middle;\n",
       "    }\n",
       "\n",
       "    .dataframe tbody tr th {\n",
       "        vertical-align: top;\n",
       "    }\n",
       "\n",
       "    .dataframe thead th {\n",
       "        text-align: right;\n",
       "    }\n",
       "</style>\n",
       "<table border=\"1\" class=\"dataframe\">\n",
       "  <thead>\n",
       "    <tr style=\"text-align: right;\">\n",
       "      <th></th>\n",
       "      <th>ride_id</th>\n",
       "      <th>rideable_type</th>\n",
       "      <th>started_at</th>\n",
       "      <th>ended_at</th>\n",
       "      <th>start_station_name</th>\n",
       "      <th>start_station_id</th>\n",
       "      <th>end_station_name</th>\n",
       "      <th>end_station_id</th>\n",
       "      <th>start_lat</th>\n",
       "      <th>start_lng</th>\n",
       "      <th>end_lat</th>\n",
       "      <th>end_lng</th>\n",
       "      <th>member_casual</th>\n",
       "      <th>duration</th>\n",
       "      <th>duration_minutes</th>\n",
       "    </tr>\n",
       "  </thead>\n",
       "  <tbody>\n",
       "    <tr>\n",
       "      <th>0</th>\n",
       "      <td>37BE5FCB1A385CDA</td>\n",
       "      <td>classic_bike</td>\n",
       "      <td>2023-06-27 16:06:27</td>\n",
       "      <td>2023-06-27 16:10:27</td>\n",
       "      <td>Hilltop</td>\n",
       "      <td>JC019</td>\n",
       "      <td>Christ Hospital</td>\n",
       "      <td>JC034</td>\n",
       "      <td>40.731115</td>\n",
       "      <td>-74.057468</td>\n",
       "      <td>40.734786</td>\n",
       "      <td>-74.050444</td>\n",
       "      <td>casual</td>\n",
       "      <td>0 days 00:04:00</td>\n",
       "      <td>4.000000</td>\n",
       "    </tr>\n",
       "    <tr>\n",
       "      <th>1</th>\n",
       "      <td>9C96B4C6CBBB31AD</td>\n",
       "      <td>classic_bike</td>\n",
       "      <td>2023-06-24 10:46:58</td>\n",
       "      <td>2023-06-24 10:55:27</td>\n",
       "      <td>Baldwin at Montgomery</td>\n",
       "      <td>JC020</td>\n",
       "      <td>Hamilton Park</td>\n",
       "      <td>JC009</td>\n",
       "      <td>40.723473</td>\n",
       "      <td>-74.064338</td>\n",
       "      <td>40.727596</td>\n",
       "      <td>-74.044247</td>\n",
       "      <td>member</td>\n",
       "      <td>0 days 00:08:29</td>\n",
       "      <td>8.483333</td>\n",
       "    </tr>\n",
       "  </tbody>\n",
       "</table>\n",
       "</div>"
      ],
      "text/plain": [
       "            ride_id rideable_type          started_at            ended_at  \\\n",
       "0  37BE5FCB1A385CDA  classic_bike 2023-06-27 16:06:27 2023-06-27 16:10:27   \n",
       "1  9C96B4C6CBBB31AD  classic_bike 2023-06-24 10:46:58 2023-06-24 10:55:27   \n",
       "\n",
       "      start_station_name start_station_id end_station_name end_station_id  \\\n",
       "0                Hilltop            JC019  Christ Hospital          JC034   \n",
       "1  Baldwin at Montgomery            JC020    Hamilton Park          JC009   \n",
       "\n",
       "   start_lat  start_lng    end_lat    end_lng member_casual        duration  \\\n",
       "0  40.731115 -74.057468  40.734786 -74.050444        casual 0 days 00:04:00   \n",
       "1  40.723473 -74.064338  40.727596 -74.044247        member 0 days 00:08:29   \n",
       "\n",
       "   duration_minutes  \n",
       "0          4.000000  \n",
       "1          8.483333  "
      ]
     },
     "execution_count": 52,
     "metadata": {},
     "output_type": "execute_result"
    }
   ],
   "source": [
    "filtered_test_df.head(2)"
   ]
  },
  {
   "cell_type": "code",
   "execution_count": 55,
   "id": "d442ea12",
   "metadata": {},
   "outputs": [
    {
     "name": "stdout",
     "output_type": "stream",
     "text": [
      "380\n"
     ]
    }
   ],
   "source": [
    "# Get the dimensionality of the feature matrix\n",
    "num_columns = X_test.shape[1]\n",
    "\n",
    "# Display the dimensionality\n",
    "print(num_columns)"
   ]
  },
  {
   "cell_type": "code",
   "execution_count": 56,
   "id": "c07910fd",
   "metadata": {},
   "outputs": [
    {
     "data": {
      "text/plain": [
       "((93031, 380), (93031,))"
      ]
     },
     "execution_count": 56,
     "metadata": {},
     "output_type": "execute_result"
    }
   ],
   "source": [
    "# Define the target variable\n",
    "y_test = filtered_test_df[target]\n",
    "\n",
    "# feature matrix and target array\n",
    "X_test.shape, y_test.shape"
   ]
  },
  {
   "cell_type": "code",
   "execution_count": 57,
   "id": "ffc8a680",
   "metadata": {},
   "outputs": [
    {
     "data": {
      "text/plain": [
       "array([10.85002939, 11.21362683,  8.93772939, ...,  8.93110919,\n",
       "        8.93110919,  8.93110919])"
      ]
     },
     "execution_count": 57,
     "metadata": {},
     "output_type": "execute_result"
    }
   ],
   "source": [
    "# Predict the target variable\n",
    "y_test_pred = model.predict(X_test)\n",
    "y_test_pred"
   ]
  },
  {
   "cell_type": "code",
   "execution_count": 58,
   "id": "7a1f9c35",
   "metadata": {},
   "outputs": [
    {
     "name": "stdout",
     "output_type": "stream",
     "text": [
      "RMSE on test: 8.28\n"
     ]
    }
   ],
   "source": [
    "from sklearn.metrics import mean_squared_error\n",
    "\n",
    "# Calculate the RMSE on the training data\n",
    "rmse = mean_squared_error(y_test, y_test_pred, squared=False)\n",
    "\n",
    "# Display the rounded RMSE\n",
    "print(\"RMSE on test:\", round(rmse, 2))"
   ]
  },
  {
   "cell_type": "markdown",
   "id": "8ebe7648",
   "metadata": {},
   "source": [
    "<div style=\"letter-spacing:normal; opacity:1.;\">\n",
    "  <h1 style=\"text-align:center; background-color: lightsalmon; color: Jaguar; border-radius:10px; font-family:monospace; border-radius:20px;\n",
    "            line-height:1.4; font-size:32px; font-weight:bold; text-transform: uppercase; padding: 9px;\">\n",
    "            <strong>6. Tree Based Model Training</strong></h1>   \n",
    "</div>"
   ]
  },
  {
   "cell_type": "markdown",
   "id": "9d3a9eda",
   "metadata": {},
   "source": [
    "## Implemet Random Forest Regression"
   ]
  },
  {
   "cell_type": "code",
   "execution_count": 59,
   "id": "c07720de",
   "metadata": {},
   "outputs": [],
   "source": [
    "from sklearn.ensemble import RandomForestRegressor\n",
    "\n",
    "def objective(trial):\n",
    "    # Define hyperparameters to optimize\n",
    "    params = {\n",
    "        'n_estimators': trial.suggest_categorical(name='n_estimators', choices=[80, 90, 100, 120, 150]),\n",
    "        'max_depth': trial.suggest_int(name='max_depth', low=3, high=19, step=2),\n",
    "        'min_samples_split': trial.suggest_int(name='min_samples_split', low=2, high=20, step=3),\n",
    "        'min_samples_leaf': trial.suggest_int(name='min_samples_leaf', low=1, high=6, step=1),\n",
    "        'random_state': 101,\n",
    "        'n_jobs': -1\n",
    "    }\n",
    "\n",
    "    # Create and train RandomForestRegressor with suggested hyperparameters\n",
    "    rf = RandomForestRegressor(**params)\n",
    "    rf.fit(X_train, y_train)\n",
    "\n",
    "    # Make predictions on validation data and calculate RMSE\n",
    "    y_pred = rf.predict(X_test)\n",
    "    rmse = mean_squared_error(y_test, y_pred, squared=False)\n",
    "    return rmse"
   ]
  },
  {
   "cell_type": "code",
   "execution_count": 60,
   "id": "9e0b8795",
   "metadata": {},
   "outputs": [
    {
     "name": "stderr",
     "output_type": "stream",
     "text": [
      "[I 2023-08-21 19:54:21,878] A new study created in memory with name: no-name-d68a1191-5440-47aa-8861-cd081bc9e06f\n"
     ]
    },
    {
     "data": {
      "application/vnd.jupyter.widget-view+json": {
       "model_id": "e8b751af20ab4b6ebeffcb41960d3e9d",
       "version_major": 2,
       "version_minor": 0
      },
      "text/plain": [
       "  0%|          | 0/40 [00:00<?, ?it/s]"
      ]
     },
     "metadata": {},
     "output_type": "display_data"
    },
    {
     "name": "stdout",
     "output_type": "stream",
     "text": [
      "[I 2023-08-21 19:54:33,243] Trial 0 finished with value: 8.104114117861116 and parameters: {'n_estimators': 150, 'max_depth': 17, 'min_samples_split': 8, 'min_samples_leaf': 6}. Best is trial 0 with value: 8.104114117861116.\n",
      "[I 2023-08-21 19:54:39,486] Trial 1 finished with value: 8.109832738236427 and parameters: {'n_estimators': 80, 'max_depth': 17, 'min_samples_split': 20, 'min_samples_leaf': 2}. Best is trial 0 with value: 8.104114117861116.\n",
      "[I 2023-08-21 19:54:44,054] Trial 2 finished with value: 8.225834525993807 and parameters: {'n_estimators': 100, 'max_depth': 11, 'min_samples_split': 2, 'min_samples_leaf': 1}. Best is trial 0 with value: 8.104114117861116.\n",
      "[I 2023-08-21 19:54:47,664] Trial 3 finished with value: 8.219881936411921 and parameters: {'n_estimators': 90, 'max_depth': 11, 'min_samples_split': 20, 'min_samples_leaf': 5}. Best is trial 0 with value: 8.104114117861116.\n",
      "[I 2023-08-21 19:54:54,594] Trial 4 finished with value: 8.105936440627989 and parameters: {'n_estimators': 100, 'max_depth': 17, 'min_samples_split': 11, 'min_samples_leaf': 6}. Best is trial 0 with value: 8.104114117861116.\n",
      "[I 2023-08-21 19:54:57,607] Trial 5 finished with value: 8.314741031512945 and parameters: {'n_estimators': 120, 'max_depth': 7, 'min_samples_split': 14, 'min_samples_leaf': 1}. Best is trial 0 with value: 8.104114117861116.\n",
      "[I 2023-08-21 19:54:59,641] Trial 6 finished with value: 8.316568230035141 and parameters: {'n_estimators': 80, 'max_depth': 7, 'min_samples_split': 14, 'min_samples_leaf': 1}. Best is trial 0 with value: 8.104114117861116.\n",
      "[I 2023-08-21 19:55:05,000] Trial 7 finished with value: 8.106030902079885 and parameters: {'n_estimators': 80, 'max_depth': 17, 'min_samples_split': 20, 'min_samples_leaf': 3}. Best is trial 0 with value: 8.104114117861116.\n",
      "[I 2023-08-21 19:55:09,372] Trial 8 finished with value: 8.176472057099902 and parameters: {'n_estimators': 90, 'max_depth': 13, 'min_samples_split': 17, 'min_samples_leaf': 5}. Best is trial 0 with value: 8.104114117861116.\n",
      "[I 2023-08-21 19:55:15,566] Trial 9 finished with value: 8.226000143170863 and parameters: {'n_estimators': 150, 'max_depth': 11, 'min_samples_split': 17, 'min_samples_leaf': 1}. Best is trial 0 with value: 8.104114117861116.\n",
      "[I 2023-08-21 19:55:17,568] Trial 10 finished with value: 8.510322058991715 and parameters: {'n_estimators': 150, 'max_depth': 3, 'min_samples_split': 5, 'min_samples_leaf': 6}. Best is trial 0 with value: 8.104114117861116.\n",
      "[I 2023-08-21 19:55:25,633] Trial 11 finished with value: 8.076806179046908 and parameters: {'n_estimators': 100, 'max_depth': 19, 'min_samples_split': 8, 'min_samples_leaf': 6}. Best is trial 11 with value: 8.076806179046908.\n",
      "[I 2023-08-21 19:55:36,892] Trial 12 finished with value: 8.072893356399954 and parameters: {'n_estimators': 150, 'max_depth': 19, 'min_samples_split': 8, 'min_samples_leaf': 5}. Best is trial 12 with value: 8.072893356399954.\n",
      "[I 2023-08-21 19:55:44,111] Trial 13 finished with value: 8.074337991902743 and parameters: {'n_estimators': 100, 'max_depth': 19, 'min_samples_split': 8, 'min_samples_leaf': 4}. Best is trial 12 with value: 8.072893356399954.\n",
      "[I 2023-08-21 19:55:52,846] Trial 14 finished with value: 8.07220533633631 and parameters: {'n_estimators': 120, 'max_depth': 19, 'min_samples_split': 8, 'min_samples_leaf': 4}. Best is trial 14 with value: 8.07220533633631.\n",
      "[I 2023-08-21 19:55:59,588] Trial 15 finished with value: 8.136171868304992 and parameters: {'n_estimators': 120, 'max_depth': 15, 'min_samples_split': 2, 'min_samples_leaf': 4}. Best is trial 14 with value: 8.07220533633631.\n",
      "[I 2023-08-21 19:56:06,607] Trial 16 finished with value: 8.137043412215688 and parameters: {'n_estimators': 120, 'max_depth': 15, 'min_samples_split': 5, 'min_samples_leaf': 3}. Best is trial 14 with value: 8.07220533633631.\n",
      "[I 2023-08-21 19:56:16,003] Trial 17 finished with value: 8.073728659806243 and parameters: {'n_estimators': 120, 'max_depth': 19, 'min_samples_split': 11, 'min_samples_leaf': 5}. Best is trial 14 with value: 8.07220533633631.\n",
      "[I 2023-08-21 19:56:25,123] Trial 18 finished with value: 8.136125210206728 and parameters: {'n_estimators': 150, 'max_depth': 15, 'min_samples_split': 5, 'min_samples_leaf': 4}. Best is trial 14 with value: 8.07220533633631.\n",
      "[I 2023-08-21 19:56:28,221] Trial 19 finished with value: 8.313435403569041 and parameters: {'n_estimators': 120, 'max_depth': 7, 'min_samples_split': 11, 'min_samples_leaf': 3}. Best is trial 14 with value: 8.07220533633631.\n",
      "[I 2023-08-21 19:56:35,572] Trial 20 finished with value: 8.175884938865465 and parameters: {'n_estimators': 150, 'max_depth': 13, 'min_samples_split': 8, 'min_samples_leaf': 5}. Best is trial 14 with value: 8.07220533633631.\n",
      "[I 2023-08-21 19:56:44,583] Trial 21 finished with value: 8.073728659806243 and parameters: {'n_estimators': 120, 'max_depth': 19, 'min_samples_split': 11, 'min_samples_leaf': 5}. Best is trial 14 with value: 8.07220533633631.\n",
      "[I 2023-08-21 19:56:53,694] Trial 22 finished with value: 8.07220533633631 and parameters: {'n_estimators': 120, 'max_depth': 19, 'min_samples_split': 11, 'min_samples_leaf': 4}. Best is trial 14 with value: 8.07220533633631.\n",
      "[I 2023-08-21 19:57:02,354] Trial 23 finished with value: 8.07220533633631 and parameters: {'n_estimators': 120, 'max_depth': 19, 'min_samples_split': 14, 'min_samples_leaf': 4}. Best is trial 14 with value: 8.07220533633631.\n",
      "[I 2023-08-21 19:57:09,979] Trial 24 finished with value: 8.101808974564701 and parameters: {'n_estimators': 120, 'max_depth': 17, 'min_samples_split': 14, 'min_samples_leaf': 4}. Best is trial 14 with value: 8.07220533633631.\n",
      "[I 2023-08-21 19:57:17,887] Trial 25 finished with value: 8.140981761277976 and parameters: {'n_estimators': 120, 'max_depth': 15, 'min_samples_split': 14, 'min_samples_leaf': 2}. Best is trial 14 with value: 8.07220533633631.\n",
      "[I 2023-08-21 19:57:24,731] Trial 26 finished with value: 8.17537063425744 and parameters: {'n_estimators': 120, 'max_depth': 13, 'min_samples_split': 17, 'min_samples_leaf': 4}. Best is trial 14 with value: 8.07220533633631.\n",
      "[I 2023-08-21 19:57:34,979] Trial 27 finished with value: 8.072681097235364 and parameters: {'n_estimators': 120, 'max_depth': 19, 'min_samples_split': 14, 'min_samples_leaf': 3}. Best is trial 14 with value: 8.07220533633631.\n",
      "[I 2023-08-21 19:57:36,569] Trial 28 finished with value: 8.510270877504295 and parameters: {'n_estimators': 90, 'max_depth': 3, 'min_samples_split': 11, 'min_samples_leaf': 2}. Best is trial 14 with value: 8.07220533633631.\n",
      "[I 2023-08-21 19:57:46,027] Trial 29 finished with value: 8.101808974564701 and parameters: {'n_estimators': 120, 'max_depth': 17, 'min_samples_split': 5, 'min_samples_leaf': 4}. Best is trial 14 with value: 8.07220533633631.\n",
      "[I 2023-08-21 19:57:55,317] Trial 30 finished with value: 8.102844886617802 and parameters: {'n_estimators': 120, 'max_depth': 17, 'min_samples_split': 17, 'min_samples_leaf': 3}. Best is trial 14 with value: 8.07220533633631.\n",
      "[I 2023-08-21 19:58:05,679] Trial 31 finished with value: 8.072681097235364 and parameters: {'n_estimators': 120, 'max_depth': 19, 'min_samples_split': 14, 'min_samples_leaf': 3}. Best is trial 14 with value: 8.07220533633631.\n",
      "[I 2023-08-21 19:58:15,762] Trial 32 finished with value: 8.077616874132678 and parameters: {'n_estimators': 120, 'max_depth': 19, 'min_samples_split': 14, 'min_samples_leaf': 2}. Best is trial 14 with value: 8.07220533633631.\n",
      "[I 2023-08-21 19:58:25,395] Trial 33 finished with value: 8.101808974564701 and parameters: {'n_estimators': 120, 'max_depth': 17, 'min_samples_split': 11, 'min_samples_leaf': 4}. Best is trial 14 with value: 8.07220533633631.\n",
      "[I 2023-08-21 19:58:32,648] Trial 34 finished with value: 8.07525554326917 and parameters: {'n_estimators': 80, 'max_depth': 19, 'min_samples_split': 11, 'min_samples_leaf': 3}. Best is trial 14 with value: 8.07220533633631.\n",
      "[I 2023-08-21 19:58:41,528] Trial 35 finished with value: 8.1018089745647 and parameters: {'n_estimators': 120, 'max_depth': 17, 'min_samples_split': 14, 'min_samples_leaf': 4}. Best is trial 14 with value: 8.07220533633631.\n",
      "[I 2023-08-21 19:58:44,750] Trial 36 finished with value: 8.264440470327672 and parameters: {'n_estimators': 90, 'max_depth': 9, 'min_samples_split': 8, 'min_samples_leaf': 3}. Best is trial 14 with value: 8.07220533633631.\n",
      "[I 2023-08-21 19:58:51,922] Trial 37 finished with value: 8.136171868304992 and parameters: {'n_estimators': 120, 'max_depth': 15, 'min_samples_split': 17, 'min_samples_leaf': 4}. Best is trial 14 with value: 8.07220533633631.\n",
      "[I 2023-08-21 19:58:59,602] Trial 38 finished with value: 8.1068473568337 and parameters: {'n_estimators': 120, 'max_depth': 17, 'min_samples_split': 14, 'min_samples_leaf': 2}. Best is trial 14 with value: 8.07220533633631.\n",
      "[I 2023-08-21 19:59:05,762] Trial 39 finished with value: 8.07525554326917 and parameters: {'n_estimators': 80, 'max_depth': 19, 'min_samples_split': 11, 'min_samples_leaf': 3}. Best is trial 14 with value: 8.07220533633631.\n"
     ]
    }
   ],
   "source": [
    "# Set the number of trials for optimization\n",
    "num_trials=40\n",
    "\n",
    "def optimize_hyperparameters(num_trials):\n",
    "    # Configure the sampler and create a study\n",
    "    sampler = TPESampler(seed=101)\n",
    "    study = optuna.create_study(direction=\"minimize\", sampler=sampler)\n",
    "\n",
    "    # Optimize the study\n",
    "    study.optimize(objective, n_trials=num_trials, show_progress_bar=True)\n",
    "    \n",
    "    return study\n",
    "\n",
    "study = optimize_hyperparameters(num_trials)"
   ]
  },
  {
   "cell_type": "code",
   "execution_count": 61,
   "id": "f1e71d37",
   "metadata": {},
   "outputs": [],
   "source": [
    "with open('model/rf_model.bin', 'wb') as f_out:\n",
    "    pickle.dump((dv, model), f_out)"
   ]
  },
  {
   "cell_type": "code",
   "execution_count": 62,
   "id": "31cda7dc",
   "metadata": {},
   "outputs": [
    {
     "name": "stdout",
     "output_type": "stream",
     "text": [
      "Best Parameters: {'n_estimators': 120, 'max_depth': 19, 'min_samples_split': 8, 'min_samples_leaf': 4}\n",
      "Best RMSE Value: 8.07\n"
     ]
    }
   ],
   "source": [
    "# Print the best parameters and the corresponding value\n",
    "best_params = study.best_params\n",
    "best_value = study.best_value\n",
    "print(f\"Best Parameters: {best_params}\")\n",
    "print(f\"Best RMSE Value: {best_value:.2f}\")"
   ]
  },
  {
   "cell_type": "code",
   "execution_count": 63,
   "id": "362003bd",
   "metadata": {},
   "outputs": [
    {
     "name": "stdout",
     "output_type": "stream",
     "text": [
      "Best Parameters: {'n_estimators': 120, 'max_depth': 19, 'min_samples_split': 8, 'min_samples_leaf': 4}\n",
      "Best RMSE Value: 8.07\n"
     ]
    }
   ],
   "source": [
    "# Get the best trial and its parameters\n",
    "best_trial = study.best_trial\n",
    "best_params = best_trial.params\n",
    "best_value = best_trial.value\n",
    "print(f\"Best Parameters: {best_params}\")\n",
    "print(f\"Best RMSE Value: {best_value:.2f}\")"
   ]
  },
  {
   "cell_type": "code",
   "execution_count": 64,
   "id": "af7aa8f0",
   "metadata": {},
   "outputs": [
    {
     "name": "stdout",
     "output_type": "stream",
     "text": [
      "Number of finished trials:  40\n"
     ]
    }
   ],
   "source": [
    "print('Number of finished trials: ', len(study.trials))"
   ]
  },
  {
   "cell_type": "markdown",
   "id": "352af926",
   "metadata": {},
   "source": [
    "## Implemet XGBoost Regression"
   ]
  },
  {
   "cell_type": "code",
   "execution_count": 65,
   "id": "6b54204d",
   "metadata": {},
   "outputs": [],
   "source": [
    "import xgboost as xgb\n",
    "from hyperopt import fmin, tpe, hp, STATUS_OK, Trials\n",
    "from hyperopt.pyll import scope\n",
    "\n",
    "train = xgb.DMatrix(X_train, label=y_train)\n",
    "test = xgb.DMatrix(X_test, label=y_test)"
   ]
  },
  {
   "cell_type": "code",
   "execution_count": 66,
   "id": "052174c3",
   "metadata": {},
   "outputs": [],
   "source": [
    "search_space = {\n",
    "    'learning_rate': hp.loguniform(label='learning_rate', low=-3, high=0),\n",
    "    'max_depth': scope.int(hp.quniform(label='max_depth', low=4, high=100, q=1)),\n",
    "    'min_child_weight': hp.loguniform(label='min_child_weight', low=-1, high=3),\n",
    "    'reg_alpha': hp.loguniform(label='reg_alpha', low=-5, high=-1),\n",
    "    'reg_lambda': hp.loguniform(label='reg_lambda', low=-6, high=-1),\n",
    "    'objective': 'reg:squarederror',\n",
    "    'seed': 42\n",
    "}\n",
    "\n",
    "def objective(params, train=train, val=test):\n",
    "    # Create and train XGBoost with suggested hyperparameters\n",
    "    booster = xgb.train(\n",
    "        params=params,\n",
    "        dtrain=train,\n",
    "        num_boost_round=100,\n",
    "        evals=[(val, 'validation')],\n",
    "        early_stopping_rounds=15\n",
    "    )\n",
    "    # Make predictions on validation data and calculate RMSE\n",
    "    y_pred = booster.predict(val)\n",
    "    rmse = mean_squared_error(y_test, y_pred, squared=False)\n",
    "\n",
    "    return {'loss': rmse, 'status': STATUS_OK}"
   ]
  },
  {
   "cell_type": "code",
   "execution_count": 67,
   "id": "914b2d79",
   "metadata": {},
   "outputs": [
    {
     "name": "stdout",
     "output_type": "stream",
     "text": [
      "Best Hyperparameters: {'learning_rate': 0.5071044485453926, 'max_depth': 93.0, 'min_child_weight': 19.897217893181395, 'reg_alpha': 0.16265686655895775, 'reg_lambda': 0.0396241828328032}\n"
     ]
    }
   ],
   "source": [
    "import sys\n",
    "# Set the number of trials for optimization\n",
    "num_trials=50\n",
    "\n",
    "# Open the text file for writing\n",
    "with open('output/output.txt', 'w') as f_out:\n",
    "    # Redirect the standard output to the file\n",
    "    original_stdout = sys.stdout\n",
    "    sys.stdout = f_out\n",
    "    \n",
    "    # Optimize the model\n",
    "    best_result = fmin(\n",
    "        fn=objective,\n",
    "        space=search_space,\n",
    "        algo=tpe.suggest,\n",
    "        max_evals=num_trials,\n",
    "        trials=Trials(),\n",
    "        verbose=True,\n",
    "        show_progressbar=False  # Suppress the progress bar\n",
    "    )\n",
    "    # Restore the standard output\n",
    "    sys.stdout = original_stdout\n",
    "\n",
    "    # Print the best hyperparameters\n",
    "    print(\"Best Hyperparameters:\", best_result)"
   ]
  },
  {
   "cell_type": "code",
   "execution_count": 68,
   "id": "3b57e1f3",
   "metadata": {},
   "outputs": [
    {
     "name": "stdout",
     "output_type": "stream",
     "text": [
      "[0]\tvalidation-rmse:8.93646\n",
      "[1]\tvalidation-rmse:7.83183\n",
      "[2]\tvalidation-rmse:7.54382\n",
      "[3]\tvalidation-rmse:7.45344\n",
      "[4]\tvalidation-rmse:7.43193\n",
      "[5]\tvalidation-rmse:7.42375\n",
      "[6]\tvalidation-rmse:7.41939\n",
      "[7]\tvalidation-rmse:7.41367\n",
      "[8]\tvalidation-rmse:7.40630\n",
      "[9]\tvalidation-rmse:7.40392\n",
      "[10]\tvalidation-rmse:7.39519\n",
      "[11]\tvalidation-rmse:7.39076\n",
      "[12]\tvalidation-rmse:7.38566\n",
      "[13]\tvalidation-rmse:7.38116\n",
      "[14]\tvalidation-rmse:7.37552\n",
      "[15]\tvalidation-rmse:7.37065\n",
      "[16]\tvalidation-rmse:7.36631\n",
      "[17]\tvalidation-rmse:7.36257\n",
      "[18]\tvalidation-rmse:7.35627\n",
      "[19]\tvalidation-rmse:7.34789\n",
      "[20]\tvalidation-rmse:7.33961\n",
      "[21]\tvalidation-rmse:7.33768\n",
      "[22]\tvalidation-rmse:7.33375\n",
      "[23]\tvalidation-rmse:7.32825\n",
      "[24]\tvalidation-rmse:7.32126\n",
      "[25]\tvalidation-rmse:7.31828\n",
      "[26]\tvalidation-rmse:7.31218\n",
      "[27]\tvalidation-rmse:7.31078\n",
      "[28]\tvalidation-rmse:7.30682\n",
      "[29]\tvalidation-rmse:7.30271\n",
      "[30]\tvalidation-rmse:7.30062\n",
      "[31]\tvalidation-rmse:7.29761\n",
      "[32]\tvalidation-rmse:7.29322\n",
      "[33]\tvalidation-rmse:7.29093\n",
      "[34]\tvalidation-rmse:7.28748\n",
      "[35]\tvalidation-rmse:7.28355\n",
      "[36]\tvalidation-rmse:7.28405\n",
      "[37]\tvalidation-rmse:7.28214\n",
      "[38]\tvalidation-rmse:7.27981\n",
      "[39]\tvalidation-rmse:7.27851\n",
      "[40]\tvalidation-rmse:7.27588\n",
      "[41]\tvalidation-rmse:7.27470\n",
      "[42]\tvalidation-rmse:7.27281\n",
      "[43]\tvalidation-rmse:7.27173\n",
      "[44]\tvalidation-rmse:7.27127\n",
      "[45]\tvalidation-rmse:7.26911\n",
      "[46]\tvalidation-rmse:7.26744\n",
      "[47]\tvalidation-rmse:7.26686\n",
      "[48]\tvalidation-rmse:7.26573\n",
      "[49]\tvalidation-rmse:7.26509\n",
      "[50]\tvalidation-rmse:7.26345\n",
      "[51]\tvalidation-rmse:7.26207\n",
      "[52]\tvalidation-rmse:7.26143\n",
      "[53]\tvalidation-rmse:7.26061\n",
      "[54]\tvalidation-rmse:7.26054\n",
      "[55]\tvalidation-rmse:7.25987\n",
      "[56]\tvalidation-rmse:7.25735\n",
      "[57]\tvalidation-rmse:7.25649\n",
      "[58]\tvalidation-rmse:7.25681\n",
      "[59]\tvalidation-rmse:7.25494\n",
      "[60]\tvalidation-rmse:7.25277\n",
      "[61]\tvalidation-rmse:7.25146\n",
      "[62]\tvalidation-rmse:7.25158\n",
      "[63]\tvalidation-rmse:7.25102\n",
      "[64]\tvalidation-rmse:7.24936\n",
      "[65]\tvalidation-rmse:7.24991\n",
      "[66]\tvalidation-rmse:7.24971\n",
      "[67]\tvalidation-rmse:7.24840\n",
      "[68]\tvalidation-rmse:7.24739\n",
      "[69]\tvalidation-rmse:7.24679\n",
      "[70]\tvalidation-rmse:7.24698\n",
      "[71]\tvalidation-rmse:7.24671\n",
      "[72]\tvalidation-rmse:7.24555\n",
      "[73]\tvalidation-rmse:7.24483\n",
      "[74]\tvalidation-rmse:7.24332\n",
      "[75]\tvalidation-rmse:7.24283\n",
      "[76]\tvalidation-rmse:7.24210\n",
      "[77]\tvalidation-rmse:7.24210\n",
      "[78]\tvalidation-rmse:7.24097\n",
      "[79]\tvalidation-rmse:7.24044\n",
      "[80]\tvalidation-rmse:7.24083\n",
      "[81]\tvalidation-rmse:7.23976\n",
      "[82]\tvalidation-rmse:7.23967\n",
      "[83]\tvalidation-rmse:7.23896\n",
      "[84]\tvalidation-rmse:7.23866\n",
      "[85]\tvalidation-rmse:7.23838\n",
      "[86]\tvalidation-rmse:7.23813\n",
      "[87]\tvalidation-rmse:7.23818\n",
      "[88]\tvalidation-rmse:7.23754\n",
      "[89]\tvalidation-rmse:7.23778\n",
      "[90]\tvalidation-rmse:7.23773\n",
      "[91]\tvalidation-rmse:7.23734\n",
      "[92]\tvalidation-rmse:7.23745\n",
      "[93]\tvalidation-rmse:7.23692\n",
      "[94]\tvalidation-rmse:7.23726\n",
      "[95]\tvalidation-rmse:7.23669\n",
      "[96]\tvalidation-rmse:7.23678\n",
      "[97]\tvalidation-rmse:7.23592\n",
      "[98]\tvalidation-rmse:7.23556\n",
      "[99]\tvalidation-rmse:7.23446\n",
      "[100]\tvalidation-rmse:7.23413\n",
      "[101]\tvalidation-rmse:7.23425\n",
      "[102]\tvalidation-rmse:7.23430\n",
      "[103]\tvalidation-rmse:7.23383\n",
      "[104]\tvalidation-rmse:7.23315\n",
      "[105]\tvalidation-rmse:7.23335\n",
      "[106]\tvalidation-rmse:7.23327\n",
      "[107]\tvalidation-rmse:7.23283\n",
      "[108]\tvalidation-rmse:7.23252\n",
      "[109]\tvalidation-rmse:7.23254\n",
      "[110]\tvalidation-rmse:7.23114\n",
      "[111]\tvalidation-rmse:7.23135\n",
      "[112]\tvalidation-rmse:7.23126\n",
      "[113]\tvalidation-rmse:7.23126\n",
      "[114]\tvalidation-rmse:7.23181\n",
      "[115]\tvalidation-rmse:7.23141\n",
      "[116]\tvalidation-rmse:7.23057\n",
      "[117]\tvalidation-rmse:7.23066\n",
      "[118]\tvalidation-rmse:7.23074\n",
      "[119]\tvalidation-rmse:7.23098\n",
      "[120]\tvalidation-rmse:7.23129\n",
      "[121]\tvalidation-rmse:7.23198\n",
      "[122]\tvalidation-rmse:7.23119\n",
      "[123]\tvalidation-rmse:7.23123\n",
      "[124]\tvalidation-rmse:7.23154\n",
      "[125]\tvalidation-rmse:7.23112\n",
      "[126]\tvalidation-rmse:7.23138\n",
      "[127]\tvalidation-rmse:7.23171\n",
      "[128]\tvalidation-rmse:7.23182\n",
      "[129]\tvalidation-rmse:7.23177\n",
      "[130]\tvalidation-rmse:7.23153\n",
      "[131]\tvalidation-rmse:7.23186\n",
      "[132]\tvalidation-rmse:7.23161\n",
      "[133]\tvalidation-rmse:7.23108\n",
      "[134]\tvalidation-rmse:7.23055\n",
      "[135]\tvalidation-rmse:7.23057\n",
      "[136]\tvalidation-rmse:7.23038\n",
      "[137]\tvalidation-rmse:7.23025\n",
      "[138]\tvalidation-rmse:7.23004\n",
      "[139]\tvalidation-rmse:7.23030\n",
      "[140]\tvalidation-rmse:7.23059\n",
      "[141]\tvalidation-rmse:7.23063\n",
      "[142]\tvalidation-rmse:7.23037\n",
      "[143]\tvalidation-rmse:7.23033\n",
      "[144]\tvalidation-rmse:7.22963\n",
      "[145]\tvalidation-rmse:7.22943\n",
      "[146]\tvalidation-rmse:7.22971\n",
      "[147]\tvalidation-rmse:7.22937\n",
      "[148]\tvalidation-rmse:7.22939\n",
      "[149]\tvalidation-rmse:7.22905\n",
      "[150]\tvalidation-rmse:7.22931\n",
      "[151]\tvalidation-rmse:7.22933\n",
      "[152]\tvalidation-rmse:7.22896\n",
      "[153]\tvalidation-rmse:7.22838\n",
      "[154]\tvalidation-rmse:7.22787\n",
      "[155]\tvalidation-rmse:7.22865\n",
      "[156]\tvalidation-rmse:7.22890\n",
      "[157]\tvalidation-rmse:7.22903\n",
      "[158]\tvalidation-rmse:7.22903\n",
      "[159]\tvalidation-rmse:7.22881\n",
      "[160]\tvalidation-rmse:7.22896\n",
      "[161]\tvalidation-rmse:7.22892\n",
      "[162]\tvalidation-rmse:7.22896\n",
      "[163]\tvalidation-rmse:7.22854\n",
      "[164]\tvalidation-rmse:7.22861\n",
      "[165]\tvalidation-rmse:7.22854\n",
      "[166]\tvalidation-rmse:7.22925\n",
      "[167]\tvalidation-rmse:7.22896\n",
      "[168]\tvalidation-rmse:7.22863\n",
      "[169]\tvalidation-rmse:7.22873\n",
      "[170]\tvalidation-rmse:7.22911\n",
      "[171]\tvalidation-rmse:7.22922\n",
      "[172]\tvalidation-rmse:7.22921\n",
      "[173]\tvalidation-rmse:7.22950\n",
      "[174]\tvalidation-rmse:7.22882\n",
      "[175]\tvalidation-rmse:7.22870\n",
      "[176]\tvalidation-rmse:7.22852\n",
      "[177]\tvalidation-rmse:7.22801\n",
      "[178]\tvalidation-rmse:7.22806\n",
      "[179]\tvalidation-rmse:7.22823\n",
      "[180]\tvalidation-rmse:7.22856\n",
      "[181]\tvalidation-rmse:7.22874\n",
      "[182]\tvalidation-rmse:7.22879\n",
      "[183]\tvalidation-rmse:7.22941\n",
      "[184]\tvalidation-rmse:7.22875\n",
      "[185]\tvalidation-rmse:7.22892\n",
      "[186]\tvalidation-rmse:7.22950\n",
      "[187]\tvalidation-rmse:7.22997\n",
      "[188]\tvalidation-rmse:7.22954\n",
      "[189]\tvalidation-rmse:7.22958\n",
      "[190]\tvalidation-rmse:7.23005\n",
      "[191]\tvalidation-rmse:7.23013\n",
      "[192]\tvalidation-rmse:7.22985\n",
      "[193]\tvalidation-rmse:7.23009\n",
      "[194]\tvalidation-rmse:7.23037\n",
      "[195]\tvalidation-rmse:7.23041\n",
      "[196]\tvalidation-rmse:7.23061\n",
      "[197]\tvalidation-rmse:7.23059\n",
      "[198]\tvalidation-rmse:7.23073\n",
      "[199]\tvalidation-rmse:7.23114\n",
      "[200]\tvalidation-rmse:7.23077\n",
      "[201]\tvalidation-rmse:7.23092\n",
      "[202]\tvalidation-rmse:7.23103\n",
      "[203]\tvalidation-rmse:7.23147\n",
      "[204]\tvalidation-rmse:7.23152\n"
     ]
    },
    {
     "data": {
      "text/plain": [
       "7.231523586618995"
      ]
     },
     "execution_count": 68,
     "metadata": {},
     "output_type": "execute_result"
    }
   ],
   "source": [
    "best_params = {\n",
    "    'learning_rate': 0.5071044485453926,\n",
    "    'max_depth': 93,\n",
    "    'min_child_weight': 19.897217893181395,\n",
    "    'reg_alpha': 0.16265686655895775,\n",
    "    'reg_lambda': 0.0396241828328032,\n",
    "    'objective': 'reg:squarederror',\n",
    "    'seed': 42\n",
    "}\n",
    "# Create and train XGBoost with suggested hyperparameters\n",
    "booster = xgb.train(\n",
    "    params=best_params,\n",
    "    dtrain=train,\n",
    "    num_boost_round=1000,\n",
    "    evals=[(test, 'validation')],\n",
    "    early_stopping_rounds=50\n",
    ")\n",
    "# Make predictions on validation data and calculate RMSE\n",
    "y_pred = booster.predict(test)\n",
    "rmse = mean_squared_error(y_test, y_pred, squared=False)\n",
    "rmse"
   ]
  },
  {
   "cell_type": "code",
   "execution_count": 69,
   "id": "d7a1cd60",
   "metadata": {},
   "outputs": [],
   "source": [
    "with open('model/xgb_model.bin', 'wb') as f_out:\n",
    "    pickle.dump((dv, model), f_out)"
   ]
  },
  {
   "cell_type": "markdown",
   "id": "2b2b4c4f",
   "metadata": {},
   "source": [
    "## Calc Distance via (lat1, lon1, lat2, lon2)"
   ]
  },
  {
   "cell_type": "code",
   "execution_count": 70,
   "id": "c80d772a",
   "metadata": {},
   "outputs": [
    {
     "name": "stdout",
     "output_type": "stream",
     "text": [
      "Distance between points: 3935.75 kilometers\n"
     ]
    }
   ],
   "source": [
    "def haversine_distance(row):\n",
    "    lat1, lon1, lat2, lon2 = row['start_lat'], row['start_lng'], row['end_lat'], row['end_lng']\n",
    "    # Convert latitude and longitude from degrees to radians\n",
    "    lat1_rad, lon1_rad, lat2_rad, lon2_rad = map(np.radians, [lat1, lon1, lat2, lon2])\n",
    "\n",
    "    # Radius of the Earth in kilometers\n",
    "    radius = 6371.0\n",
    "\n",
    "    # Haversine formula\n",
    "    dlat = lat2_rad - lat1_rad\n",
    "    dlon = lon2_rad - lon1_rad\n",
    "    a = np.sin(dlat / 2)**2 + np.cos(lat1_rad) * np.cos(lat2_rad) * np.sin(dlon / 2)**2\n",
    "    c = 2 * np.arctan2(np.sqrt(a), np.sqrt(1 - a))\n",
    "    distance = radius * c\n",
    "    \n",
    "    return distance\n",
    "\n",
    "# Example coordinates (replace with your actual data)\n",
    "row = {\n",
    "    'start_lat': 40.7128,\n",
    "    'start_lng': -74.0060,\n",
    "    'end_lat': 34.0522,\n",
    "    'end_lng': -118.2437\n",
    "}\n",
    "\n",
    "# Calculate distance\n",
    "distance_km = haversine_distance(row)\n",
    "print(f\"Distance between points: {distance_km:.2f} kilometers\")"
   ]
  },
  {
   "cell_type": "code",
   "execution_count": 74,
   "id": "26a2813b",
   "metadata": {},
   "outputs": [
    {
     "data": {
      "text/plain": [
       "0        2.294339\n",
       "1        2.354073\n",
       "2        0.000000\n",
       "3        2.455469\n",
       "4        2.206617\n",
       "           ...   \n",
       "95997    0.985810\n",
       "95998    1.964313\n",
       "95999    1.964313\n",
       "96000    1.289818\n",
       "96001    1.964313\n",
       "Name: trip_distance, Length: 96002, dtype: float64"
      ]
     },
     "execution_count": 74,
     "metadata": {},
     "output_type": "execute_result"
    }
   ],
   "source": [
    "# Assuming train_df is your DataFrame containing the coordinates\n",
    "train_df['trip_distance'] = train_df.apply(haversine_distance, axis=1).fillna(0)\n",
    "train_df['trip_distance']"
   ]
  },
  {
   "cell_type": "code",
   "execution_count": 75,
   "id": "efa99336",
   "metadata": {},
   "outputs": [
    {
     "data": {
      "text/plain": [
       "0"
      ]
     },
     "execution_count": 75,
     "metadata": {},
     "output_type": "execute_result"
    }
   ],
   "source": [
    "train_df['trip_distance'].isna().sum()"
   ]
  },
  {
   "cell_type": "markdown",
   "id": "bf34682f",
   "metadata": {},
   "source": [
    "# End of The Project: Part 1"
   ]
  }
 ],
 "metadata": {
  "kernelspec": {
   "display_name": "Python 3 (ipykernel)",
   "language": "python",
   "name": "python3"
  },
  "language_info": {
   "codemirror_mode": {
    "name": "ipython",
    "version": 3
   },
   "file_extension": ".py",
   "mimetype": "text/x-python",
   "name": "python",
   "nbconvert_exporter": "python",
   "pygments_lexer": "ipython3",
   "version": "3.10.12"
  },
  "toc": {
   "base_numbering": 1,
   "nav_menu": {},
   "number_sections": true,
   "sideBar": true,
   "skip_h1_title": false,
   "title_cell": "Table of Contents",
   "title_sidebar": "Contents",
   "toc_cell": false,
   "toc_position": {},
   "toc_section_display": true,
   "toc_window_display": false
  }
 },
 "nbformat": 4,
 "nbformat_minor": 5
}
